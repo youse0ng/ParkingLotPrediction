{
 "cells": [
  {
   "cell_type": "markdown",
   "metadata": {
    "id": "3LKUcK33JaUj"
   },
   "source": [
    "# AIVLE스쿨 2차 미니프로젝트: 신규 아파트 주차 수요 예측"
   ]
  },
  {
   "cell_type": "markdown",
   "metadata": {
    "id": "kYP7mb9YJaUk"
   },
   "source": [
    "<img src = \"https://github.com/Jangrae/img/blob/master/parking.png?raw=true\" width=800, align=\"left\"/>"
   ]
  },
  {
   "cell_type": "markdown",
   "metadata": {
    "id": "mJlY5pHkC2AM"
   },
   "source": [
    "# 단계 3: 모델링"
   ]
  },
  {
   "cell_type": "markdown",
   "metadata": {
    "id": "-FPypzell2uc"
   },
   "source": [
    "## [미션]\n",
    "\n",
    "- 모델링을 수행합니다.\n",
    "    - 전처리를 추가로 진행합니다.\n",
    "    - 4개 이상의 알고리즘을 사용해 모델링을 수행합니다.\n",
    "    - 각 모델에 대해 성능 튜닝을 수행합니다.\n",
    "    - 성능을 비교해 최선의 모델을 선정합니다.\n",
    "- 데이터 파이프라인 함수를 만듭니다.\n",
    "- 새로운 데이터를 읽어와 예측을 수행합니다."
   ]
  },
  {
   "cell_type": "markdown",
   "metadata": {
    "id": "NCptKiLOAn7l"
   },
   "source": [
    "## 1. 환경설정"
   ]
  },
  {
   "cell_type": "markdown",
   "metadata": {
    "id": "gklxNfgNpkls"
   },
   "source": [
    "### (1) 로컬 수행(Anaconda)\n",
    "\n",
    "- project 폴더에 필요한 파일들을 넣고, 본 파일을 열었다면, 별도 경로 지정이 필요하지 않습니다."
   ]
  },
  {
   "cell_type": "code",
   "execution_count": null,
   "metadata": {
    "id": "PNI6X2yxpkls",
    "tags": []
   },
   "outputs": [],
   "source": [
    "# 기본 경로\n",
    "path = ''"
   ]
  },
  {
   "cell_type": "markdown",
   "metadata": {
    "id": "7rWT4biQpkls"
   },
   "source": [
    "### (2) 구글 콜랩 수행\n",
    "\n",
    "- 구글 콜랩을 사용중이면 구글 드라이브를 연결합니다."
   ]
  },
  {
   "cell_type": "code",
   "execution_count": 260,
   "metadata": {
    "id": "CLasRk8Spklt",
    "tags": []
   },
   "outputs": [],
   "source": [
    "# 구글 드라이브 연결, 패스 지정\n",
    "import sys\n",
    "if 'google.colab' in sys.modules:\n",
    "    from google.colab import drive\n",
    "    drive.mount('/content/drive')\n",
    "    path = '/content/drive/MyDrive/project/'"
   ]
  },
  {
   "cell_type": "markdown",
   "metadata": {
    "id": "_pZ0wODmJaUl"
   },
   "source": [
    "### (3) 한글 폰트 표시용 라이브러리 설치"
   ]
  },
  {
   "cell_type": "code",
   "execution_count": 263,
   "metadata": {
    "id": "OB5myH_xJaUl"
   },
   "outputs": [],
   "source": [
    "# 한글 표시를 위한 라이브러리 설치\n",
    "# !pip install koreanize_matplotlib -q"
   ]
  },
  {
   "cell_type": "markdown",
   "metadata": {
    "id": "nePA7QICJaUm"
   },
   "source": [
    "### (4) 라이브러리 불러오기"
   ]
  },
  {
   "cell_type": "code",
   "execution_count": 266,
   "metadata": {
    "id": "6CajyIHEJaUm",
    "tags": []
   },
   "outputs": [],
   "source": [
    "# 기본 라이브러리 불러오기\n",
    "import numpy as np\n",
    "import pandas as pd\n",
    "import matplotlib.pyplot as plt\n",
    "import koreanize_matplotlib\n",
    "import seaborn as sns\n",
    "\n",
    "# 모델링용 라이브러리 불러오기\n",
    "from sklearn.model_selection import train_test_split, GridSearchCV\n",
    "from sklearn.linear_model import LinearRegression\n",
    "from sklearn.ensemble import RandomForestRegressor\n",
    "from xgboost import XGBRegressor\n",
    "import lightgbm as lgb\n",
    "\n",
    "from sklearn.metrics import *\n",
    "\n",
    "# 기타 라이브러리 불러기기\n",
    "import joblib\n",
    "import warnings\n",
    "\n",
    "warnings.filterwarnings(action='ignore')\n",
    "%config InlineBackend.figure_format='retina'"
   ]
  },
  {
   "cell_type": "markdown",
   "metadata": {
    "id": "dPfPWkG1txqV"
   },
   "source": [
    "### (5) 데이터 불러오기\n",
    "\n",
    "- joblib.dump() 함수를 사용해 base_data2.pkl 파일을 읽어옵니다.\n",
    "- 읽어온 데이터를 data 데이터프레임으로 선언하고 기본 정보를 확인합니다."
   ]
  },
  {
   "cell_type": "code",
   "execution_count": 269,
   "metadata": {
    "id": "X2kI5qHzwEjg"
   },
   "outputs": [
    {
     "data": {
      "text/html": [
       "<div>\n",
       "<style scoped>\n",
       "    .dataframe tbody tr th:only-of-type {\n",
       "        vertical-align: middle;\n",
       "    }\n",
       "\n",
       "    .dataframe tbody tr th {\n",
       "        vertical-align: top;\n",
       "    }\n",
       "\n",
       "    .dataframe thead th {\n",
       "        text-align: right;\n",
       "    }\n",
       "</style>\n",
       "<table border=\"1\" class=\"dataframe\">\n",
       "  <thead>\n",
       "    <tr style=\"text-align: right;\">\n",
       "      <th></th>\n",
       "      <th>총세대수</th>\n",
       "      <th>준공연도</th>\n",
       "      <th>건물형태</th>\n",
       "      <th>난방방식</th>\n",
       "      <th>승강기설치여부</th>\n",
       "      <th>실차량수</th>\n",
       "      <th>총면적</th>\n",
       "      <th>10-40</th>\n",
       "      <th>40-60</th>\n",
       "      <th>60-80</th>\n",
       "      <th>80-100</th>\n",
       "      <th>100-200</th>\n",
       "      <th>임대보증금</th>\n",
       "      <th>임대료</th>\n",
       "    </tr>\n",
       "  </thead>\n",
       "  <tbody>\n",
       "    <tr>\n",
       "      <th>0</th>\n",
       "      <td>78</td>\n",
       "      <td>2013</td>\n",
       "      <td>계단식</td>\n",
       "      <td>개별</td>\n",
       "      <td>1</td>\n",
       "      <td>109</td>\n",
       "      <td>6023.7683</td>\n",
       "      <td>0</td>\n",
       "      <td>78</td>\n",
       "      <td>0</td>\n",
       "      <td>0</td>\n",
       "      <td>0</td>\n",
       "      <td>5.696200e+07</td>\n",
       "      <td>642930.000000</td>\n",
       "    </tr>\n",
       "    <tr>\n",
       "      <th>1</th>\n",
       "      <td>35</td>\n",
       "      <td>2013</td>\n",
       "      <td>복도식</td>\n",
       "      <td>개별</td>\n",
       "      <td>1</td>\n",
       "      <td>35</td>\n",
       "      <td>1569.1668</td>\n",
       "      <td>35</td>\n",
       "      <td>0</td>\n",
       "      <td>0</td>\n",
       "      <td>0</td>\n",
       "      <td>0</td>\n",
       "      <td>6.306200e+07</td>\n",
       "      <td>470100.000000</td>\n",
       "    </tr>\n",
       "    <tr>\n",
       "      <th>2</th>\n",
       "      <td>88</td>\n",
       "      <td>2013</td>\n",
       "      <td>계단식</td>\n",
       "      <td>개별</td>\n",
       "      <td>1</td>\n",
       "      <td>88</td>\n",
       "      <td>7180.1396</td>\n",
       "      <td>0</td>\n",
       "      <td>88</td>\n",
       "      <td>0</td>\n",
       "      <td>0</td>\n",
       "      <td>0</td>\n",
       "      <td>7.219000e+07</td>\n",
       "      <td>586540.000000</td>\n",
       "    </tr>\n",
       "    <tr>\n",
       "      <th>3</th>\n",
       "      <td>477</td>\n",
       "      <td>2014</td>\n",
       "      <td>복도식</td>\n",
       "      <td>지역</td>\n",
       "      <td>1</td>\n",
       "      <td>943</td>\n",
       "      <td>47058.9273</td>\n",
       "      <td>0</td>\n",
       "      <td>150</td>\n",
       "      <td>216</td>\n",
       "      <td>111</td>\n",
       "      <td>0</td>\n",
       "      <td>1.015167e+08</td>\n",
       "      <td>950305.000000</td>\n",
       "    </tr>\n",
       "    <tr>\n",
       "      <th>4</th>\n",
       "      <td>15</td>\n",
       "      <td>2013</td>\n",
       "      <td>복도식</td>\n",
       "      <td>개별</td>\n",
       "      <td>1</td>\n",
       "      <td>21</td>\n",
       "      <td>543.0268</td>\n",
       "      <td>15</td>\n",
       "      <td>0</td>\n",
       "      <td>0</td>\n",
       "      <td>0</td>\n",
       "      <td>0</td>\n",
       "      <td>5.522750e+07</td>\n",
       "      <td>340148.333333</td>\n",
       "    </tr>\n",
       "  </tbody>\n",
       "</table>\n",
       "</div>"
      ],
      "text/plain": [
       "   총세대수  준공연도 건물형태 난방방식  승강기설치여부  실차량수         총면적  10-40  40-60  60-80  \\\n",
       "0    78  2013  계단식   개별        1   109   6023.7683      0     78      0   \n",
       "1    35  2013  복도식   개별        1    35   1569.1668     35      0      0   \n",
       "2    88  2013  계단식   개별        1    88   7180.1396      0     88      0   \n",
       "3   477  2014  복도식   지역        1   943  47058.9273      0    150    216   \n",
       "4    15  2013  복도식   개별        1    21    543.0268     15      0      0   \n",
       "\n",
       "   80-100  100-200         임대보증금            임대료  \n",
       "0       0        0  5.696200e+07  642930.000000  \n",
       "1       0        0  6.306200e+07  470100.000000  \n",
       "2       0        0  7.219000e+07  586540.000000  \n",
       "3     111        0  1.015167e+08  950305.000000  \n",
       "4       0        0  5.522750e+07  340148.333333  "
      ]
     },
     "execution_count": 269,
     "metadata": {},
     "output_type": "execute_result"
    }
   ],
   "source": [
    "# 파일 읽어오기\n",
    "data = joblib.load('new_data4.pkl')\n",
    "\n",
    "# 확인\n",
    "data.head()"
   ]
  },
  {
   "cell_type": "code",
   "execution_count": 271,
   "metadata": {
    "id": "nx3ZFaN9Xmv_"
   },
   "outputs": [
    {
     "name": "stdout",
     "output_type": "stream",
     "text": [
      "<class 'pandas.core.frame.DataFrame'>\n",
      "RangeIndex: 354 entries, 0 to 353\n",
      "Data columns (total 14 columns):\n",
      " #   Column   Non-Null Count  Dtype  \n",
      "---  ------   --------------  -----  \n",
      " 0   총세대수     354 non-null    int64  \n",
      " 1   준공연도     354 non-null    int32  \n",
      " 2   건물형태     354 non-null    object \n",
      " 3   난방방식     354 non-null    object \n",
      " 4   승강기설치여부  354 non-null    int64  \n",
      " 5   실차량수     354 non-null    int64  \n",
      " 6   총면적      354 non-null    float64\n",
      " 7   10-40    354 non-null    int64  \n",
      " 8   40-60    354 non-null    int64  \n",
      " 9   60-80    354 non-null    int64  \n",
      " 10  80-100   354 non-null    int64  \n",
      " 11  100-200  354 non-null    int64  \n",
      " 12  임대보증금    354 non-null    float64\n",
      " 13  임대료      354 non-null    float64\n",
      "dtypes: float64(3), int32(1), int64(8), object(2)\n",
      "memory usage: 37.5+ KB\n"
     ]
    }
   ],
   "source": [
    "data.info()"
   ]
  },
  {
   "cell_type": "markdown",
   "metadata": {
    "id": "xkEmuB30wRaS"
   },
   "source": [
    "### (6) 함수 생성\n",
    "\n",
    "- 실젯값과 모델이 예측한 값을 시각화해 비교할 함수를 만듭니다."
   ]
  },
  {
   "cell_type": "code",
   "execution_count": 274,
   "metadata": {
    "id": "QMo-4gMpJaUm"
   },
   "outputs": [],
   "source": [
    "# 실젯값, 예측값 비교 함수 만들기\n",
    "# def model_plot(y_test, y_pred):\n",
    "#     plt.figure(figsize=(10, 3))\n",
    "#     plt.plot(y_test.values, label='Actual', linewidth=0.7, marker='o', markersize=2)\n",
    "#     plt.plot(y_pred, label='Predicted', linewidth=0.7, marker='o', markersize=2)\n",
    "#     plt.legend()\n",
    "#     plt.show()"
   ]
  },
  {
   "cell_type": "markdown",
   "metadata": {
    "id": "_rnxI9AX34So"
   },
   "source": [
    "## 2. 모델링\n",
    "\n",
    "- 모델링을 위한 결측치 처리, 데이터 분할, 스케일링, 가변수화 등을 수행합니다.\n",
    "- 4개 이상의 알고리즘을 사용하여 모델을 만듭니다.\n",
    "- 모델 이름은 서로 다르게 합니다. (예: model1, model2...)\n",
    "- Linear Regression 이외의 알고리즘을 사용한 모델은 GridSearchCV() 함수로 성능 최적화를 수행합니다.\n",
    "- 적절한 평가지표로 모델의 성능을 평가합니다.\n",
    "- 실젯값과 예측값을 시각화해 비교합니다.\n",
    "- 성능 비교를 통해 최선의 모델을 선정합니다."
   ]
  },
  {
   "cell_type": "markdown",
   "metadata": {
    "id": "I2dCzUzIdmGA"
   },
   "source": [
    "### (1) 데이터 전처리\n",
    "\n",
    "- 필요한 전처리를 수행합니다."
   ]
  },
  {
   "cell_type": "markdown",
   "metadata": {
    "id": "LwhUygCD-a5-"
   },
   "source": [
    "#### 1) 가변수화\n",
    "\n",
    "- '건물형태', '난방방식' 변수에 대해 가변수화를 수행합니다."
   ]
  },
  {
   "cell_type": "code",
   "execution_count": 276,
   "metadata": {
    "id": "Y8UVpKTK2XLJ"
   },
   "outputs": [
    {
     "data": {
      "text/html": [
       "<div>\n",
       "<style scoped>\n",
       "    .dataframe tbody tr th:only-of-type {\n",
       "        vertical-align: middle;\n",
       "    }\n",
       "\n",
       "    .dataframe tbody tr th {\n",
       "        vertical-align: top;\n",
       "    }\n",
       "\n",
       "    .dataframe thead th {\n",
       "        text-align: right;\n",
       "    }\n",
       "</style>\n",
       "<table border=\"1\" class=\"dataframe\">\n",
       "  <thead>\n",
       "    <tr style=\"text-align: right;\">\n",
       "      <th></th>\n",
       "      <th>총세대수</th>\n",
       "      <th>준공연도</th>\n",
       "      <th>승강기설치여부</th>\n",
       "      <th>실차량수</th>\n",
       "      <th>총면적</th>\n",
       "      <th>10-40</th>\n",
       "      <th>40-60</th>\n",
       "      <th>60-80</th>\n",
       "      <th>80-100</th>\n",
       "      <th>100-200</th>\n",
       "      <th>임대보증금</th>\n",
       "      <th>임대료</th>\n",
       "      <th>건물형태_복도식</th>\n",
       "      <th>건물형태_혼합식</th>\n",
       "      <th>난방방식_중앙</th>\n",
       "      <th>난방방식_지역</th>\n",
       "    </tr>\n",
       "  </thead>\n",
       "  <tbody>\n",
       "    <tr>\n",
       "      <th>0</th>\n",
       "      <td>78</td>\n",
       "      <td>2013</td>\n",
       "      <td>1</td>\n",
       "      <td>109</td>\n",
       "      <td>6023.7683</td>\n",
       "      <td>0</td>\n",
       "      <td>78</td>\n",
       "      <td>0</td>\n",
       "      <td>0</td>\n",
       "      <td>0</td>\n",
       "      <td>5.696200e+07</td>\n",
       "      <td>642930.000000</td>\n",
       "      <td>False</td>\n",
       "      <td>False</td>\n",
       "      <td>False</td>\n",
       "      <td>False</td>\n",
       "    </tr>\n",
       "    <tr>\n",
       "      <th>1</th>\n",
       "      <td>35</td>\n",
       "      <td>2013</td>\n",
       "      <td>1</td>\n",
       "      <td>35</td>\n",
       "      <td>1569.1668</td>\n",
       "      <td>35</td>\n",
       "      <td>0</td>\n",
       "      <td>0</td>\n",
       "      <td>0</td>\n",
       "      <td>0</td>\n",
       "      <td>6.306200e+07</td>\n",
       "      <td>470100.000000</td>\n",
       "      <td>True</td>\n",
       "      <td>False</td>\n",
       "      <td>False</td>\n",
       "      <td>False</td>\n",
       "    </tr>\n",
       "    <tr>\n",
       "      <th>2</th>\n",
       "      <td>88</td>\n",
       "      <td>2013</td>\n",
       "      <td>1</td>\n",
       "      <td>88</td>\n",
       "      <td>7180.1396</td>\n",
       "      <td>0</td>\n",
       "      <td>88</td>\n",
       "      <td>0</td>\n",
       "      <td>0</td>\n",
       "      <td>0</td>\n",
       "      <td>7.219000e+07</td>\n",
       "      <td>586540.000000</td>\n",
       "      <td>False</td>\n",
       "      <td>False</td>\n",
       "      <td>False</td>\n",
       "      <td>False</td>\n",
       "    </tr>\n",
       "    <tr>\n",
       "      <th>3</th>\n",
       "      <td>477</td>\n",
       "      <td>2014</td>\n",
       "      <td>1</td>\n",
       "      <td>943</td>\n",
       "      <td>47058.9273</td>\n",
       "      <td>0</td>\n",
       "      <td>150</td>\n",
       "      <td>216</td>\n",
       "      <td>111</td>\n",
       "      <td>0</td>\n",
       "      <td>1.015167e+08</td>\n",
       "      <td>950305.000000</td>\n",
       "      <td>True</td>\n",
       "      <td>False</td>\n",
       "      <td>False</td>\n",
       "      <td>True</td>\n",
       "    </tr>\n",
       "    <tr>\n",
       "      <th>4</th>\n",
       "      <td>15</td>\n",
       "      <td>2013</td>\n",
       "      <td>1</td>\n",
       "      <td>21</td>\n",
       "      <td>543.0268</td>\n",
       "      <td>15</td>\n",
       "      <td>0</td>\n",
       "      <td>0</td>\n",
       "      <td>0</td>\n",
       "      <td>0</td>\n",
       "      <td>5.522750e+07</td>\n",
       "      <td>340148.333333</td>\n",
       "      <td>True</td>\n",
       "      <td>False</td>\n",
       "      <td>False</td>\n",
       "      <td>False</td>\n",
       "    </tr>\n",
       "  </tbody>\n",
       "</table>\n",
       "</div>"
      ],
      "text/plain": [
       "   총세대수  준공연도  승강기설치여부  실차량수         총면적  10-40  40-60  60-80  80-100  \\\n",
       "0    78  2013        1   109   6023.7683      0     78      0       0   \n",
       "1    35  2013        1    35   1569.1668     35      0      0       0   \n",
       "2    88  2013        1    88   7180.1396      0     88      0       0   \n",
       "3   477  2014        1   943  47058.9273      0    150    216     111   \n",
       "4    15  2013        1    21    543.0268     15      0      0       0   \n",
       "\n",
       "   100-200         임대보증금            임대료  건물형태_복도식  건물형태_혼합식  난방방식_중앙  난방방식_지역  \n",
       "0        0  5.696200e+07  642930.000000     False     False    False    False  \n",
       "1        0  6.306200e+07  470100.000000      True     False    False    False  \n",
       "2        0  7.219000e+07  586540.000000     False     False    False    False  \n",
       "3        0  1.015167e+08  950305.000000      True     False    False     True  \n",
       "4        0  5.522750e+07  340148.333333      True     False    False    False  "
      ]
     },
     "execution_count": 276,
     "metadata": {},
     "output_type": "execute_result"
    }
   ],
   "source": [
    "# '건물형태', '난방방식' 변수를 가변수화 (One-Hot Encoding)\n",
    "data = pd.get_dummies(data, columns=['건물형태', '난방방식'], drop_first=True)\n",
    "\n",
    "# 결과 확인\n",
    "data.head()\n"
   ]
  },
  {
   "cell_type": "markdown",
   "metadata": {
    "id": "2LoNLbrAJaUn"
   },
   "source": [
    "#### 2) x, y 분리\n",
    "\n",
    "- Target를 지정하고, x와 y로 분리합니다."
   ]
  },
  {
   "cell_type": "code",
   "execution_count": 212,
   "metadata": {
    "id": "_qS6q_m0JaUn"
   },
   "outputs": [],
   "source": [
    "\n",
    "target='실차량수'\n",
    "x=data.drop(columns=target)\n",
    "y=data.loc[:,target]"
   ]
  },
  {
   "cell_type": "markdown",
   "metadata": {
    "id": "dE_cOzTuBB_j"
   },
   "source": [
    "#### 3) 학습용, 평가용 분리\n",
    "\n",
    "- 학습용, 평가용 데이터를 적절한 비율로 분리합니다."
   ]
  },
  {
   "cell_type": "code",
   "execution_count": 214,
   "metadata": {
    "id": "erDo9ThJBB5n"
   },
   "outputs": [],
   "source": [
    "\n",
    "# 학습용, 평가용 데이터 분리\n",
    "from sklearn.model_selection import train_test_split\n",
    "\n",
    "x_train,x_test,y_train,y_test=train_test_split(x,y,test_size=0.3,random_state=1)"
   ]
  },
  {
   "cell_type": "markdown",
   "metadata": {
    "id": "eaN7IkOy_mBI"
   },
   "source": [
    "#### 4) 스케일링\n",
    "\n",
    "- 필요한 경우 스케일링을 진행합니다.\n",
    "- 예를 들어 KNN 알고리즘을 사용할 경우입니다."
   ]
  },
  {
   "cell_type": "markdown",
   "metadata": {
    "id": "etAA2LwF4SWn"
   },
   "source": [
    "### (2) 모델 1: 선형회귀"
   ]
  },
  {
   "cell_type": "code",
   "execution_count": 216,
   "metadata": {
    "id": "fhxPV3EvInno"
   },
   "outputs": [
    {
     "name": "stdout",
     "output_type": "stream",
     "text": [
      "Mean Squared Error: 35156.99\n",
      "Root Mean Squared Error: 187.50\n",
      "R-squared: 0.71\n"
     ]
    }
   ],
   "source": [
    "# 5. 선형 회귀 모델 생성 및 학습\n",
    "model = LinearRegression()\n",
    "model.fit(x_train, y_train)\n",
    "\n",
    "# 6. 예측\n",
    "y_pred = model.predict(x_test)\n",
    "\n",
    "# 7. 모델 평가\n",
    "mse = mean_squared_error(y_test, y_pred)  # MSE (평균 제곱 오차)\n",
    "rmse = np.sqrt(mse)  # RMSE (루트 평균 제곱 오차)\n",
    "r2 = r2_score(y_test, y_pred)  # R² 스코어\n",
    "\n",
    "# 8. 결과 출력\n",
    "print(f\"Mean Squared Error: {mse:.2f}\")\n",
    "print(f\"Root Mean Squared Error: {rmse:.2f}\")\n",
    "print(f\"R-squared: {r2:.2f}\")\n"
   ]
  },
  {
   "cell_type": "markdown",
   "metadata": {
    "id": "FydcSYl88hv7"
   },
   "source": [
    "### (3) 모델 2: 랜덤포레스트\n"
   ]
  },
  {
   "cell_type": "code",
   "execution_count": 164,
   "metadata": {
    "id": "tRykzP9C8hv8"
   },
   "outputs": [
    {
     "name": "stdout",
     "output_type": "stream",
     "text": [
      "Mean Squared Error: 29768.15\n",
      "Root Mean Squared Error: 172.53\n",
      "R-squared: 0.75\n"
     ]
    }
   ],
   "source": [
    "# 5. 랜덤 포레스트 회귀 모델 생성 및 학습\n",
    "rf_model = RandomForestRegressor(n_estimators=100, random_state=1)\n",
    "rf_model.fit(x_train, y_train)\n",
    "\n",
    "# 6. 예측\n",
    "y_pred = rf_model.predict(x_test)\n",
    "\n",
    "# 7. 모델 평가\n",
    "mse = mean_squared_error(y_test, y_pred)  # MSE (평균 제곱 오차)\n",
    "rmse = np.sqrt(mse)  # RMSE (루트 평균 제곱 오차)\n",
    "r2 = r2_score(y_test, y_pred)  # R² 스코어\n",
    "\n",
    "# 8. 결과 출력\n",
    "print(f\"Mean Squared Error: {mse:.2f}\")\n",
    "print(f\"Root Mean Squared Error: {rmse:.2f}\")\n",
    "print(f\"R-squared: {r2:.2f}\")"
   ]
  },
  {
   "cell_type": "markdown",
   "metadata": {
    "id": "XSgCYQ7fhc0O"
   },
   "source": [
    "### (4) 모델 3: GridSearchCV를 사용한 랜덤 포레스트 모델"
   ]
  },
  {
   "cell_type": "code",
   "execution_count": 176,
   "metadata": {
    "id": "sWJSVdb36ugE"
   },
   "outputs": [
    {
     "name": "stdout",
     "output_type": "stream",
     "text": [
      "Fitting 5 folds for each of 216 candidates, totalling 1080 fits\n",
      "Best Parameters: {'max_depth': 10, 'max_features': 'sqrt', 'min_samples_leaf': 1, 'min_samples_split': 2, 'n_estimators': 300}\n",
      "Mean Squared Error: 30930.24\n",
      "Root Mean Squared Error: 175.87\n",
      "R-squared: 0.74\n"
     ]
    }
   ],
   "source": [
    "# 5. 랜덤 포레스트 모델 생성\n",
    "rf = RandomForestRegressor(random_state=1)\n",
    "\n",
    "# 하이퍼파라미터 그리드\n",
    "param_grid = {\n",
    "    'n_estimators': [100, 200, 300],\n",
    "    'max_depth': [None, 10, 20, 30],\n",
    "    'min_samples_split': [2, 5, 10],\n",
    "    'min_samples_leaf': [1, 2, 4],\n",
    "    'max_features': ['auto', 'sqrt']\n",
    "}\n",
    "\n",
    "# GridSearchCV\n",
    "grid_search = GridSearchCV(estimator=rf, param_grid=param_grid, cv=5, n_jobs=-1, verbose=2)\n",
    "grid_search.fit(x_train, y_train)\n",
    "\n",
    "# 최적의 하이퍼파라미터 출력\n",
    "print(f\"Best Parameters: {grid_search.best_params_}\")\n",
    "\n",
    "# 최적 모델로 예측 및 평가\n",
    "best_rf_model = grid_search.best_estimator_\n",
    "y_pred_best = best_rf_model.predict(x_test)\n",
    "\n",
    "mse_best = mean_squared_error(y_test, y_pred_best)\n",
    "rmse_best = np.sqrt(mse_best)\n",
    "r2_best = r2_score(y_test, y_pred_best)\n",
    "\n",
    "print(f\"Mean Squared Error: {mse_best:.2f}\")\n",
    "print(f\"Root Mean Squared Error: {rmse_best:.2f}\")\n",
    "print(f\"R-squared: {r2_best:.2f}\")"
   ]
  },
  {
   "cell_type": "markdown",
   "metadata": {
    "id": "1tBDqbDGJaUp"
   },
   "source": [
    "### (5) 모델 4: XGBoost"
   ]
  },
  {
   "cell_type": "code",
   "execution_count": 166,
   "metadata": {
    "id": "vhyK2r3aJaUp"
   },
   "outputs": [
    {
     "name": "stdout",
     "output_type": "stream",
     "text": [
      "Mean Squared Error: 35379.16\n",
      "Root Mean Squared Error: 188.09\n",
      "R-squared: 0.70\n"
     ]
    }
   ],
   "source": [
    "\n",
    "# 5. XGBoost 모델 생성\n",
    "xgb_model = XGBRegressor(objective='reg:squarederror', n_estimators=100, random_state=1)\n",
    "\n",
    "# 6. 모델 학습\n",
    "xgb_model.fit(x_train, y_train)\n",
    "\n",
    "# 7. 예측\n",
    "y_pred = xgb_model.predict(x_test)\n",
    "\n",
    "# 8. 모델 평가\n",
    "mse = mean_squared_error(y_test, y_pred)  # MSE (평균 제곱 오차)\n",
    "rmse = np.sqrt(mse)  # RMSE (루트 평균 제곱 오차)\n",
    "r2 = r2_score(y_test, y_pred)  # R² 스코어\n",
    "\n",
    "# 9. 결과 출력\n",
    "print(f\"Mean Squared Error: {mse:.2f}\")\n",
    "print(f\"Root Mean Squared Error: {rmse:.2f}\")\n",
    "print(f\"R-squared: {r2:.2f}\")"
   ]
  },
  {
   "cell_type": "markdown",
   "metadata": {
    "id": "1tBDqbDGJaUp"
   },
   "source": [
    "### (6) 모델 5: LightGBM"
   ]
  },
  {
   "cell_type": "code",
   "execution_count": 174,
   "metadata": {
    "id": "vhyK2r3aJaUp",
    "scrolled": true
   },
   "outputs": [
    {
     "name": "stdout",
     "output_type": "stream",
     "text": [
      "[LightGBM] [Info] Auto-choosing col-wise multi-threading, the overhead of testing was 0.000460 seconds.\n",
      "You can set `force_col_wise=true` to remove the overhead.\n",
      "[LightGBM] [Info] Total Bins 477\n",
      "[LightGBM] [Info] Number of data points in the train set: 247, number of used features: 12\n",
      "[LightGBM] [Info] Start training from score 565.206478\n",
      "[LightGBM] [Warning] No further splits with positive gain, best gain: -inf\n",
      "[LightGBM] [Warning] No further splits with positive gain, best gain: -inf\n",
      "[LightGBM] [Warning] No further splits with positive gain, best gain: -inf\n",
      "[LightGBM] [Warning] No further splits with positive gain, best gain: -inf\n",
      "[LightGBM] [Warning] No further splits with positive gain, best gain: -inf\n",
      "[LightGBM] [Warning] No further splits with positive gain, best gain: -inf\n",
      "[LightGBM] [Warning] No further splits with positive gain, best gain: -inf\n",
      "[LightGBM] [Warning] No further splits with positive gain, best gain: -inf\n",
      "[LightGBM] [Warning] No further splits with positive gain, best gain: -inf\n",
      "[LightGBM] [Warning] No further splits with positive gain, best gain: -inf\n",
      "[LightGBM] [Warning] No further splits with positive gain, best gain: -inf\n",
      "[LightGBM] [Warning] No further splits with positive gain, best gain: -inf\n",
      "[LightGBM] [Warning] No further splits with positive gain, best gain: -inf\n",
      "[LightGBM] [Warning] No further splits with positive gain, best gain: -inf\n",
      "[LightGBM] [Warning] No further splits with positive gain, best gain: -inf\n",
      "[LightGBM] [Warning] No further splits with positive gain, best gain: -inf\n",
      "[LightGBM] [Warning] No further splits with positive gain, best gain: -inf\n",
      "[LightGBM] [Warning] No further splits with positive gain, best gain: -inf\n",
      "[LightGBM] [Warning] No further splits with positive gain, best gain: -inf\n",
      "[LightGBM] [Warning] No further splits with positive gain, best gain: -inf\n",
      "[LightGBM] [Warning] No further splits with positive gain, best gain: -inf\n",
      "[LightGBM] [Warning] No further splits with positive gain, best gain: -inf\n",
      "[LightGBM] [Warning] No further splits with positive gain, best gain: -inf\n",
      "[LightGBM] [Warning] No further splits with positive gain, best gain: -inf\n",
      "[LightGBM] [Warning] No further splits with positive gain, best gain: -inf\n",
      "[LightGBM] [Warning] No further splits with positive gain, best gain: -inf\n",
      "[LightGBM] [Warning] No further splits with positive gain, best gain: -inf\n",
      "[LightGBM] [Warning] No further splits with positive gain, best gain: -inf\n",
      "[LightGBM] [Warning] No further splits with positive gain, best gain: -inf\n",
      "[LightGBM] [Warning] No further splits with positive gain, best gain: -inf\n",
      "[LightGBM] [Warning] No further splits with positive gain, best gain: -inf\n",
      "[LightGBM] [Warning] No further splits with positive gain, best gain: -inf\n",
      "[LightGBM] [Warning] No further splits with positive gain, best gain: -inf\n",
      "[LightGBM] [Warning] No further splits with positive gain, best gain: -inf\n",
      "[LightGBM] [Warning] No further splits with positive gain, best gain: -inf\n",
      "[LightGBM] [Warning] No further splits with positive gain, best gain: -inf\n",
      "[LightGBM] [Warning] No further splits with positive gain, best gain: -inf\n",
      "[LightGBM] [Warning] No further splits with positive gain, best gain: -inf\n",
      "[LightGBM] [Warning] No further splits with positive gain, best gain: -inf\n",
      "[LightGBM] [Warning] No further splits with positive gain, best gain: -inf\n",
      "[LightGBM] [Warning] No further splits with positive gain, best gain: -inf\n",
      "[LightGBM] [Warning] No further splits with positive gain, best gain: -inf\n",
      "[LightGBM] [Warning] No further splits with positive gain, best gain: -inf\n",
      "[LightGBM] [Warning] No further splits with positive gain, best gain: -inf\n",
      "[LightGBM] [Warning] No further splits with positive gain, best gain: -inf\n",
      "[LightGBM] [Warning] No further splits with positive gain, best gain: -inf\n",
      "[LightGBM] [Warning] No further splits with positive gain, best gain: -inf\n",
      "[LightGBM] [Warning] No further splits with positive gain, best gain: -inf\n",
      "[LightGBM] [Warning] No further splits with positive gain, best gain: -inf\n",
      "[LightGBM] [Warning] No further splits with positive gain, best gain: -inf\n",
      "[LightGBM] [Warning] No further splits with positive gain, best gain: -inf\n",
      "[LightGBM] [Warning] No further splits with positive gain, best gain: -inf\n",
      "[LightGBM] [Warning] No further splits with positive gain, best gain: -inf\n",
      "[LightGBM] [Warning] No further splits with positive gain, best gain: -inf\n",
      "[LightGBM] [Warning] No further splits with positive gain, best gain: -inf\n",
      "[LightGBM] [Warning] No further splits with positive gain, best gain: -inf\n",
      "[LightGBM] [Warning] No further splits with positive gain, best gain: -inf\n",
      "[LightGBM] [Warning] No further splits with positive gain, best gain: -inf\n",
      "[LightGBM] [Warning] No further splits with positive gain, best gain: -inf\n",
      "[LightGBM] [Warning] No further splits with positive gain, best gain: -inf\n",
      "[LightGBM] [Warning] No further splits with positive gain, best gain: -inf\n",
      "[LightGBM] [Warning] No further splits with positive gain, best gain: -inf\n",
      "[LightGBM] [Warning] No further splits with positive gain, best gain: -inf\n",
      "[LightGBM] [Warning] No further splits with positive gain, best gain: -inf\n",
      "[LightGBM] [Warning] No further splits with positive gain, best gain: -inf\n",
      "[LightGBM] [Warning] No further splits with positive gain, best gain: -inf\n",
      "[LightGBM] [Warning] No further splits with positive gain, best gain: -inf\n",
      "[LightGBM] [Warning] No further splits with positive gain, best gain: -inf\n",
      "[LightGBM] [Warning] No further splits with positive gain, best gain: -inf\n",
      "[LightGBM] [Warning] No further splits with positive gain, best gain: -inf\n",
      "[LightGBM] [Warning] No further splits with positive gain, best gain: -inf\n",
      "[LightGBM] [Warning] No further splits with positive gain, best gain: -inf\n",
      "[LightGBM] [Warning] No further splits with positive gain, best gain: -inf\n",
      "[LightGBM] [Warning] No further splits with positive gain, best gain: -inf\n",
      "[LightGBM] [Warning] No further splits with positive gain, best gain: -inf\n",
      "[LightGBM] [Warning] No further splits with positive gain, best gain: -inf\n",
      "[LightGBM] [Warning] No further splits with positive gain, best gain: -inf\n",
      "[LightGBM] [Warning] No further splits with positive gain, best gain: -inf\n",
      "[LightGBM] [Warning] No further splits with positive gain, best gain: -inf\n",
      "[LightGBM] [Warning] No further splits with positive gain, best gain: -inf\n",
      "[LightGBM] [Warning] No further splits with positive gain, best gain: -inf\n",
      "[LightGBM] [Warning] No further splits with positive gain, best gain: -inf\n",
      "[LightGBM] [Warning] No further splits with positive gain, best gain: -inf\n",
      "[LightGBM] [Warning] No further splits with positive gain, best gain: -inf\n",
      "[LightGBM] [Warning] No further splits with positive gain, best gain: -inf\n",
      "[LightGBM] [Warning] No further splits with positive gain, best gain: -inf\n",
      "[LightGBM] [Warning] No further splits with positive gain, best gain: -inf\n",
      "[LightGBM] [Warning] No further splits with positive gain, best gain: -inf\n",
      "[LightGBM] [Warning] No further splits with positive gain, best gain: -inf\n",
      "[LightGBM] [Warning] No further splits with positive gain, best gain: -inf\n",
      "[LightGBM] [Warning] No further splits with positive gain, best gain: -inf\n",
      "[LightGBM] [Warning] No further splits with positive gain, best gain: -inf\n",
      "[LightGBM] [Warning] No further splits with positive gain, best gain: -inf\n",
      "[LightGBM] [Warning] No further splits with positive gain, best gain: -inf\n",
      "[LightGBM] [Warning] No further splits with positive gain, best gain: -inf\n",
      "[LightGBM] [Warning] No further splits with positive gain, best gain: -inf\n",
      "[LightGBM] [Warning] No further splits with positive gain, best gain: -inf\n",
      "[LightGBM] [Warning] No further splits with positive gain, best gain: -inf\n",
      "[LightGBM] [Warning] No further splits with positive gain, best gain: -inf\n",
      "[LightGBM] [Warning] No further splits with positive gain, best gain: -inf\n",
      "Mean Squared Error: 31844.09\n",
      "Root Mean Squared Error: 178.45\n",
      "R-squared: 0.73\n"
     ]
    }
   ],
   "source": [
    "\n",
    "# 5. LightGBM 모델 생성\n",
    "lgb_model = lgb.LGBMRegressor(n_estimators=100, random_state=1)\n",
    "\n",
    "# 6. 모델 학습\n",
    "lgb_model.fit(x_train, y_train)\n",
    "\n",
    "# 7. 예측\n",
    "y_pred = lgb_model.predict(x_test)\n",
    "\n",
    "# 8. 모델 평가\n",
    "mse = mean_squared_error(y_test, y_pred)  # MSE (평균 제곱 오차)\n",
    "rmse = np.sqrt(mse)  # RMSE (루트 평균 제곱 오차)\n",
    "r2 = r2_score(y_test, y_pred)  # R² 스코어\n",
    "\n",
    "# 9. 결과 출력\n",
    "print(f\"Mean Squared Error: {mse:.2f}\")\n",
    "print(f\"Root Mean Squared Error: {rmse:.2f}\")\n",
    "print(f\"R-squared: {r2:.2f}\")\n"
   ]
  },
  {
   "cell_type": "markdown",
   "metadata": {},
   "source": [
    "# (7) 모델6: Voting Regressor"
   ]
  },
  {
   "cell_type": "code",
   "execution_count": 168,
   "metadata": {},
   "outputs": [
    {
     "name": "stdout",
     "output_type": "stream",
     "text": [
      "Voting Mean Squared Error: 28725.42\n",
      "Voting Root Mean Squared Error: 169.49\n",
      "Voting R-squared: 0.76\n"
     ]
    }
   ],
   "source": [
    "from sklearn.ensemble import VotingRegressor\n",
    "from xgboost import XGBRegressor\n",
    "from sklearn.linear_model import LinearRegression\n",
    "\n",
    "# 개별 모델 정의\n",
    "rf_model = RandomForestRegressor(n_estimators=100, random_state=1)\n",
    "xgb_model = XGBRegressor(random_state=1)\n",
    "lr_model = LinearRegression()\n",
    "\n",
    "# Voting Regressor 정의\n",
    "voting_model = VotingRegressor(estimators=[\n",
    "    ('rf', rf_model),\n",
    "    ('xgb', xgb_model),\n",
    "    ('lr', lr_model)\n",
    "])\n",
    "\n",
    "# 학습\n",
    "voting_model.fit(x_train, y_train)\n",
    "\n",
    "# 예측\n",
    "y_pred_voting = voting_model.predict(x_test)\n",
    "\n",
    "# 모델 평가\n",
    "mse_voting = mean_squared_error(y_test, y_pred_voting)\n",
    "rmse_voting = np.sqrt(mse_voting)\n",
    "r2_voting = r2_score(y_test, y_pred_voting)\n",
    "\n",
    "# 결과 출력\n",
    "print(f\"Voting Mean Squared Error: {mse_voting:.2f}\")\n",
    "print(f\"Voting Root Mean Squared Error: {rmse_voting:.2f}\")\n",
    "print(f\"Voting R-squared: {r2_voting:.2f}\")\n"
   ]
  },
  {
   "cell_type": "markdown",
   "metadata": {},
   "source": [
    "# (8) 모델7: Stacking Regressor"
   ]
  },
  {
   "cell_type": "code",
   "execution_count": 170,
   "metadata": {},
   "outputs": [
    {
     "name": "stdout",
     "output_type": "stream",
     "text": [
      "Stacking Mean Squared Error: 28622.52\n",
      "Stacking Root Mean Squared Error: 169.18\n",
      "Stacking R-squared: 0.76\n"
     ]
    }
   ],
   "source": [
    "from sklearn.ensemble import StackingRegressor\n",
    "\n",
    "# 개별 모델 정의\n",
    "base_models = [\n",
    "    ('rf', RandomForestRegressor(n_estimators=100, random_state=1)),\n",
    "    ('xgb', XGBRegressor(random_state=1)),\n",
    "    ('lr', LinearRegression())\n",
    "]\n",
    "\n",
    "# 메타 모델 정의 (예: Linear Regression)\n",
    "meta_model = LinearRegression()\n",
    "\n",
    "# Stacking Regressor 정의\n",
    "stacking_model = StackingRegressor(estimators=base_models, final_estimator=meta_model)\n",
    "\n",
    "# 학습\n",
    "stacking_model.fit(x_train, y_train)\n",
    "\n",
    "# 예측\n",
    "y_pred_stacking = stacking_model.predict(x_test)\n",
    "\n",
    "# 모델 평가\n",
    "mse_stacking = mean_squared_error(y_test, y_pred_stacking)\n",
    "rmse_stacking = np.sqrt(mse_stacking)\n",
    "r2_stacking = r2_score(y_test, y_pred_stacking)\n",
    "\n",
    "# 결과 출력\n",
    "print(f\"Stacking Mean Squared Error: {mse_stacking:.2f}\")\n",
    "print(f\"Stacking Root Mean Squared Error: {rmse_stacking:.2f}\")\n",
    "print(f\"Stacking R-squared: {r2_stacking:.2f}\")\n"
   ]
  },
  {
   "cell_type": "markdown",
   "metadata": {
    "id": "4-QzT2U3ixWd"
   },
   "source": [
    "### (7) 성능 비교\n",
    "\n",
    "- 각 모델의 성능을 비교합니다."
   ]
  },
  {
   "cell_type": "code",
   "execution_count": null,
   "metadata": {
    "id": "r47gFIzcJaUp",
    "scrolled": true
   },
   "outputs": [],
   "source": [
    "\n"
   ]
  },
  {
   "cell_type": "markdown",
   "metadata": {
    "id": "L9DOFUlDkV7X"
   },
   "source": [
    "## 3. 파이프라인 구축\n",
    "\n",
    "- 새로운 데이터를 불러오고, 이 데이터를 처리할 파이프라인 함수를 만듭니다."
   ]
  },
  {
   "cell_type": "markdown",
   "metadata": {
    "id": "5WOfAg25Mfe7"
   },
   "source": [
    "### (1) New Data 불러오기\n",
    "\n",
    "- test.xlsx 파일을 읽어와 new_data 데이터프레임으로 선언합니다.\n",
    "- 해당 데이터는 '실차량수' 변수가 없는 것 외에는, 최초 데이터와 동일한 구조입니다.\n",
    "- 이 데이터를 대상으로 전처리와 예측을 수행합니다."
   ]
  },
  {
   "cell_type": "code",
   "execution_count": 328,
   "metadata": {
    "id": "OIzQ0HCQdJ6c"
   },
   "outputs": [
    {
     "data": {
      "text/html": [
       "<div>\n",
       "<style scoped>\n",
       "    .dataframe tbody tr th:only-of-type {\n",
       "        vertical-align: middle;\n",
       "    }\n",
       "\n",
       "    .dataframe tbody tr th {\n",
       "        vertical-align: top;\n",
       "    }\n",
       "\n",
       "    .dataframe thead th {\n",
       "        text-align: right;\n",
       "    }\n",
       "</style>\n",
       "<table border=\"1\" class=\"dataframe\">\n",
       "  <thead>\n",
       "    <tr style=\"text-align: right;\">\n",
       "      <th></th>\n",
       "      <th>단지코드</th>\n",
       "      <th>단지명</th>\n",
       "      <th>총세대수</th>\n",
       "      <th>전용면적별세대수</th>\n",
       "      <th>지역</th>\n",
       "      <th>준공일자</th>\n",
       "      <th>건물형태</th>\n",
       "      <th>난방방식</th>\n",
       "      <th>승강기설치여부</th>\n",
       "      <th>단지내주차면수</th>\n",
       "      <th>전용면적</th>\n",
       "      <th>공용면적</th>\n",
       "      <th>임대보증금</th>\n",
       "      <th>임대료</th>\n",
       "    </tr>\n",
       "  </thead>\n",
       "  <tbody>\n",
       "    <tr>\n",
       "      <th>0</th>\n",
       "      <td>C0005</td>\n",
       "      <td>서울석촌 도시형주택(공임10년)</td>\n",
       "      <td>20</td>\n",
       "      <td>6</td>\n",
       "      <td>서울</td>\n",
       "      <td>20121115</td>\n",
       "      <td>복도식</td>\n",
       "      <td>개별가스난방</td>\n",
       "      <td>전체동 설치</td>\n",
       "      <td>9</td>\n",
       "      <td>17.53</td>\n",
       "      <td>11.7251</td>\n",
       "      <td>50449000</td>\n",
       "      <td>263710</td>\n",
       "    </tr>\n",
       "    <tr>\n",
       "      <th>1</th>\n",
       "      <td>C0005</td>\n",
       "      <td>서울석촌 도시형주택(공임10년)</td>\n",
       "      <td>20</td>\n",
       "      <td>10</td>\n",
       "      <td>서울</td>\n",
       "      <td>20121115</td>\n",
       "      <td>복도식</td>\n",
       "      <td>개별가스난방</td>\n",
       "      <td>전체동 설치</td>\n",
       "      <td>9</td>\n",
       "      <td>24.71</td>\n",
       "      <td>16.5275</td>\n",
       "      <td>52743000</td>\n",
       "      <td>321040</td>\n",
       "    </tr>\n",
       "    <tr>\n",
       "      <th>2</th>\n",
       "      <td>C0005</td>\n",
       "      <td>서울석촌 도시형주택(공임10년)</td>\n",
       "      <td>20</td>\n",
       "      <td>4</td>\n",
       "      <td>서울</td>\n",
       "      <td>20121115</td>\n",
       "      <td>복도식</td>\n",
       "      <td>개별가스난방</td>\n",
       "      <td>전체동 설치</td>\n",
       "      <td>9</td>\n",
       "      <td>26.72</td>\n",
       "      <td>17.8720</td>\n",
       "      <td>53890000</td>\n",
       "      <td>332510</td>\n",
       "    </tr>\n",
       "    <tr>\n",
       "      <th>3</th>\n",
       "      <td>C0017</td>\n",
       "      <td>대구혁신센텀힐즈</td>\n",
       "      <td>822</td>\n",
       "      <td>228</td>\n",
       "      <td>대구경북</td>\n",
       "      <td>20180221</td>\n",
       "      <td>계단식</td>\n",
       "      <td>지역난방</td>\n",
       "      <td>NaN</td>\n",
       "      <td>824</td>\n",
       "      <td>51.87</td>\n",
       "      <td>20.9266</td>\n",
       "      <td>29298000</td>\n",
       "      <td>411200</td>\n",
       "    </tr>\n",
       "    <tr>\n",
       "      <th>4</th>\n",
       "      <td>C0017</td>\n",
       "      <td>대구혁신센텀힐즈</td>\n",
       "      <td>822</td>\n",
       "      <td>56</td>\n",
       "      <td>대구경북</td>\n",
       "      <td>20180221</td>\n",
       "      <td>계단식</td>\n",
       "      <td>지역난방</td>\n",
       "      <td>NaN</td>\n",
       "      <td>824</td>\n",
       "      <td>59.85</td>\n",
       "      <td>24.1461</td>\n",
       "      <td>38550000</td>\n",
       "      <td>462600</td>\n",
       "    </tr>\n",
       "  </tbody>\n",
       "</table>\n",
       "</div>"
      ],
      "text/plain": [
       "    단지코드                단지명  총세대수  전용면적별세대수    지역      준공일자 건물형태    난방방식  \\\n",
       "0  C0005  서울석촌 도시형주택(공임10년)    20         6    서울  20121115  복도식  개별가스난방   \n",
       "1  C0005  서울석촌 도시형주택(공임10년)    20        10    서울  20121115  복도식  개별가스난방   \n",
       "2  C0005  서울석촌 도시형주택(공임10년)    20         4    서울  20121115  복도식  개별가스난방   \n",
       "3  C0017           대구혁신센텀힐즈   822       228  대구경북  20180221  계단식    지역난방   \n",
       "4  C0017           대구혁신센텀힐즈   822        56  대구경북  20180221  계단식    지역난방   \n",
       "\n",
       "  승강기설치여부  단지내주차면수   전용면적     공용면적     임대보증금     임대료  \n",
       "0  전체동 설치        9  17.53  11.7251  50449000  263710  \n",
       "1  전체동 설치        9  24.71  16.5275  52743000  321040  \n",
       "2  전체동 설치        9  26.72  17.8720  53890000  332510  \n",
       "3     NaN      824  51.87  20.9266  29298000  411200  \n",
       "4     NaN      824  59.85  24.1461  38550000  462600  "
      ]
     },
     "execution_count": 328,
     "metadata": {},
     "output_type": "execute_result"
    }
   ],
   "source": [
    "# 파일 읽어오기\n",
    "new_data = pd.read_excel('test.xlsx')\n",
    "\n",
    "# 확인\n",
    "new_data.head()"
   ]
  },
  {
   "cell_type": "markdown",
   "metadata": {
    "id": "NKLMkjcPrAjr"
   },
   "source": [
    "### (2) 데이터 파이프라인 구축\n",
    "\n",
    "- 데이터 파이프라인 함수를 만듭니다.\n",
    "- 학습 데이터에 대해 진행했던 모든 전처리 과정을 평가 데이터에도 일괄 진행해야 합니다.\n",
    "    - 입력: new_data\n",
    "    - 출력: 전처리가 완료된 예측 직전 데이터프레임\n",
    "- 새로운 데이터에는 '실차량수' 변수가 없음을 유의합니다.\n",
    "- 참고: 다음 내용들이 처리되어야 합니다.\n",
    "    - 결측치 처리\n",
    "    - 변수 추가\n",
    "    - 불필요한 변수 제거\n",
    "    - 단지 데이터, 상세 데이터 분리\n",
    "    - 단지코드별 총면적 합 집계\n",
    "    - 전용면적 구간별 집계 (피벗 형태)\n",
    "    - 임대보증금, 임대료 평균 집계\n",
    "    - 집계 결과 병합\n",
    "    - 난방방식: 개별, 지역, 중앙 세 가지로 묶기\n",
    "    - 승강기설치여부: 0, 1 값으로 변경\n",
    "    - 단지코드, 지역 변수 제거\n",
    "    - 가변수화"
   ]
  },
  {
   "cell_type": "code",
   "execution_count": 317,
   "metadata": {},
   "outputs": [],
   "source": [
    "import pandas as pd\n",
    "from sklearn.impute import KNNImputer\n",
    "from sklearn.preprocessing import LabelEncoder\n",
    "\n",
    "# 데이터 파이프라인 만들기\n",
    "def data_pipeline(data):\n",
    "    apt01 = data.copy()\n",
    "    \n",
    "    # 1. 결측치 처리\n",
    "    # 문자형 변수를 수치형으로 변환 (Label Encoding)\n",
    "    label_encoders = {}\n",
    "    categorical_columns = ['건물형태', '난방방식']  # KNN을 적용할 컬럼\n",
    "\n",
    "    for column in categorical_columns:\n",
    "        le = LabelEncoder()\n",
    "        data[column] = le.fit_transform(data[column].astype(str))  # 문자열을 수치형으로 변환\n",
    "        label_encoders[column] = le  # 인코더 저장\n",
    "\n",
    "    # KNN을 이용해 결측치 채우기\n",
    "    knn_imputer = KNNImputer(n_neighbors=5)\n",
    "    data[['건물형태', '난방방식']] = knn_imputer.fit_transform(data[['건물형태', '난방방식']])\n",
    "    \n",
    "    # 승강기설치여부 결측치 최빈값으로 채우기\n",
    "    most_frequent_value = data['승강기설치여부'].mode()[0]  # 최빈값 계산\n",
    "    data['승강기설치여부'].fillna(most_frequent_value, inplace=True)  # 결측치 채우기\n",
    "    \n",
    "    # 변수 추가\n",
    "    data['준공연도'] = data['준공일자'].apply(lambda x: str(x)[:4]).astype(int)\n",
    "    data['총면적'] = (data['전용면적'] + data['공용면적']) * data['전용면적별세대수']\n",
    "    \n",
    "    # 불필요한 변수 제거\n",
    "    data.drop(['단지명', '단지내주차면수', '준공일자'], axis=1, inplace=True)\n",
    "    \n",
    "    # 단지 데이터, 상세 데이터 분리\n",
    "    data01 = data.loc[:, ['단지코드', '총세대수', '지역', '준공연도', '건물형태', '난방방식', '승강기설치여부']]\n",
    "    data01.drop_duplicates(inplace=True)\n",
    "    data01.reset_index(inplace=True, drop=True)\n",
    "    \n",
    "    data02 = data.loc[:, ['단지코드', '총면적', '전용면적별세대수', '전용면적', '공용면적', '임대보증금', '임대료']]\n",
    "    df_area = data02.groupby(['단지코드'], as_index=False)['총면적'].sum()\n",
    "    \n",
    "    # 전용면적 구간별 집계 (피벗 형태)\n",
    "    data02['전용면적구간'] = pd.cut(data02['전용면적'],\n",
    "                                     bins=[10, 40, 60, 80, 100, 200],\n",
    "                                     labels=['10-40', '40-60', '60-80', '80-100', '100-200'],\n",
    "                                     right=True)\n",
    "    \n",
    "    temp = data02.groupby(['단지코드', '전용면적구간'])['전용면적별세대수'].sum().reset_index()\n",
    "    \n",
    "    df_pivot = pd.DataFrame(temp.pivot(index='단지코드', columns='전용면적구간', values='전용면적별세대수'))\n",
    "    df_pivot.columns.name = None\n",
    "    df_pivot.reset_index(inplace=True)\n",
    "    \n",
    "    # 임대보증금, 임대료 평균 집계\n",
    "    df_rent = data02.groupby(['단지코드'], as_index=False)[['임대보증금', '임대료']].mean()\n",
    "    \n",
    "    # 집계 결과 병합\n",
    "    base_data = pd.merge(data01, df_area, how='left', on='단지코드')\n",
    "    base_data = pd.merge(base_data, df_pivot, how='left', on='단지코드')\n",
    "    base_data = pd.merge(base_data, df_rent, how='left', on='단지코드')\n",
    "    \n",
    "    data = base_data.copy()\n",
    "    \n",
    "    # 난방방식: 개별, 지역, 중앙 세 가지로 묶기\n",
    "    data['난방방식'] = data['난방방식'].map({\n",
    "        0: '개별', \n",
    "        1: '개별', \n",
    "        2: '지역',\n",
    "        3: '지역', \n",
    "        4: '지역', \n",
    "        5: '중앙',\n",
    "        6: '중앙', \n",
    "        7: '중앙'\n",
    "    })\n",
    "    \n",
    "    # 승강기설치여부: 0, 1 값으로 변경\n",
    "    data['승강기설치여부'] = data['승강기설치여부'].map({'전체동 설치': 1, '일부동 설치': 0, '미설치': 0})\n",
    "    \n",
    "    # 단지코드, 지역 변수 제거\n",
    "    data.drop(['단지코드', '지역'], axis=1, inplace=True)\n",
    "    \n",
    "    # 가변수화\n",
    "    data = pd.get_dummies(data, columns=['건물형태', '난방방식'], drop_first=True, dtype=int)\n",
    "\n",
    "    data.rename(columns = {'건물형태_1.0': '건물형태_복도식','건물형태_2.0':'건물형태_혼합식','건물형태_3.0':'난방방식_중앙'}, inplace = True)\n",
    "    \n",
    "    return data\n",
    "\n",
    "# 예시 사용\n",
    "# preprocessed_data = data_pipeline(data_dummies)\n"
   ]
  },
  {
   "cell_type": "markdown",
   "metadata": {
    "id": "kJpmOxg2rFuZ"
   },
   "source": [
    "### (3) 예측하기\n",
    "\n",
    "- new_data를 파이프라인을 사용해 전처리한 후 가장 성능이 좋았던 모델로 예측한 결과를 확인합니다."
   ]
  },
  {
   "cell_type": "code",
   "execution_count": 320,
   "metadata": {
    "id": "XUjNsITTq9wB"
   },
   "outputs": [
    {
     "data": {
      "text/html": [
       "<div>\n",
       "<style scoped>\n",
       "    .dataframe tbody tr th:only-of-type {\n",
       "        vertical-align: middle;\n",
       "    }\n",
       "\n",
       "    .dataframe tbody tr th {\n",
       "        vertical-align: top;\n",
       "    }\n",
       "\n",
       "    .dataframe thead th {\n",
       "        text-align: right;\n",
       "    }\n",
       "</style>\n",
       "<table border=\"1\" class=\"dataframe\">\n",
       "  <thead>\n",
       "    <tr style=\"text-align: right;\">\n",
       "      <th></th>\n",
       "      <th>총세대수</th>\n",
       "      <th>준공연도</th>\n",
       "      <th>승강기설치여부</th>\n",
       "      <th>총면적</th>\n",
       "      <th>10-40</th>\n",
       "      <th>40-60</th>\n",
       "      <th>60-80</th>\n",
       "      <th>80-100</th>\n",
       "      <th>100-200</th>\n",
       "      <th>임대보증금</th>\n",
       "      <th>임대료</th>\n",
       "      <th>건물형태_복도식</th>\n",
       "      <th>건물형태_혼합식</th>\n",
       "      <th>난방방식_중앙</th>\n",
       "      <th>난방방식_지역</th>\n",
       "    </tr>\n",
       "  </thead>\n",
       "  <tbody>\n",
       "    <tr>\n",
       "      <th>0</th>\n",
       "      <td>20</td>\n",
       "      <td>2012</td>\n",
       "      <td>1</td>\n",
       "      <td>766.2736</td>\n",
       "      <td>20</td>\n",
       "      <td>0</td>\n",
       "      <td>0</td>\n",
       "      <td>0</td>\n",
       "      <td>0</td>\n",
       "      <td>5.236067e+07</td>\n",
       "      <td>305753.333333</td>\n",
       "      <td>0</td>\n",
       "      <td>1</td>\n",
       "      <td>0</td>\n",
       "      <td>0</td>\n",
       "    </tr>\n",
       "    <tr>\n",
       "      <th>1</th>\n",
       "      <td>822</td>\n",
       "      <td>2018</td>\n",
       "      <td>1</td>\n",
       "      <td>31396.0944</td>\n",
       "      <td>0</td>\n",
       "      <td>404</td>\n",
       "      <td>0</td>\n",
       "      <td>0</td>\n",
       "      <td>0</td>\n",
       "      <td>3.546600e+07</td>\n",
       "      <td>445466.666667</td>\n",
       "      <td>1</td>\n",
       "      <td>0</td>\n",
       "      <td>0</td>\n",
       "      <td>1</td>\n",
       "    </tr>\n",
       "    <tr>\n",
       "      <th>2</th>\n",
       "      <td>112</td>\n",
       "      <td>2014</td>\n",
       "      <td>1</td>\n",
       "      <td>12450.4308</td>\n",
       "      <td>0</td>\n",
       "      <td>0</td>\n",
       "      <td>20</td>\n",
       "      <td>92</td>\n",
       "      <td>0</td>\n",
       "      <td>9.869750e+07</td>\n",
       "      <td>744450.000000</td>\n",
       "      <td>1</td>\n",
       "      <td>0</td>\n",
       "      <td>0</td>\n",
       "      <td>1</td>\n",
       "    </tr>\n",
       "    <tr>\n",
       "      <th>3</th>\n",
       "      <td>122</td>\n",
       "      <td>2011</td>\n",
       "      <td>1</td>\n",
       "      <td>13081.4772</td>\n",
       "      <td>0</td>\n",
       "      <td>0</td>\n",
       "      <td>22</td>\n",
       "      <td>100</td>\n",
       "      <td>0</td>\n",
       "      <td>0.000000e+00</td>\n",
       "      <td>0.000000</td>\n",
       "      <td>1</td>\n",
       "      <td>0</td>\n",
       "      <td>0</td>\n",
       "      <td>1</td>\n",
       "    </tr>\n",
       "    <tr>\n",
       "      <th>4</th>\n",
       "      <td>262</td>\n",
       "      <td>2011</td>\n",
       "      <td>1</td>\n",
       "      <td>28141.7516</td>\n",
       "      <td>0</td>\n",
       "      <td>0</td>\n",
       "      <td>77</td>\n",
       "      <td>185</td>\n",
       "      <td>0</td>\n",
       "      <td>0.000000e+00</td>\n",
       "      <td>0.000000</td>\n",
       "      <td>1</td>\n",
       "      <td>0</td>\n",
       "      <td>0</td>\n",
       "      <td>1</td>\n",
       "    </tr>\n",
       "  </tbody>\n",
       "</table>\n",
       "</div>"
      ],
      "text/plain": [
       "   총세대수  준공연도  승강기설치여부         총면적  10-40  40-60  60-80  80-100  100-200  \\\n",
       "0    20  2012        1    766.2736     20      0      0       0        0   \n",
       "1   822  2018        1  31396.0944      0    404      0       0        0   \n",
       "2   112  2014        1  12450.4308      0      0     20      92        0   \n",
       "3   122  2011        1  13081.4772      0      0     22     100        0   \n",
       "4   262  2011        1  28141.7516      0      0     77     185        0   \n",
       "\n",
       "          임대보증금            임대료  건물형태_복도식  건물형태_혼합식  난방방식_중앙  난방방식_지역  \n",
       "0  5.236067e+07  305753.333333         0         1        0        0  \n",
       "1  3.546600e+07  445466.666667         1         0        0        1  \n",
       "2  9.869750e+07  744450.000000         1         0        0        1  \n",
       "3  0.000000e+00       0.000000         1         0        0        1  \n",
       "4  0.000000e+00       0.000000         1         0        0        1  "
      ]
     },
     "execution_count": 320,
     "metadata": {},
     "output_type": "execute_result"
    }
   ],
   "source": [
    "# 데이터 전처리\n",
    "data = data_pipeline(new_data)\n",
    "\n",
    "# 확인\n",
    "data.head()"
   ]
  },
  {
   "cell_type": "code",
   "execution_count": 322,
   "metadata": {
    "id": "OJkoQGgVJaUq"
   },
   "outputs": [
    {
     "name": "stdout",
     "output_type": "stream",
     "text": [
      "[ 199.93616304  498.69471026  518.69083522  543.38255228  614.32865368\n",
      "  501.01534286  300.61268892  651.3747154   576.58685524  497.07088867\n",
      "  292.42181988  151.8109474  1527.10528029  641.33862557  506.96932943\n",
      "  730.51788389  604.26216576  152.15959862 1013.66450727  896.59473011\n",
      "  307.56876304  835.74215888  747.08254821  837.30376758  893.43665757\n",
      "  264.45922682  192.00940983 1187.87011742  383.56223382  895.97151064]\n"
     ]
    }
   ],
   "source": [
    "# 예측하기\n",
    "predicted = stacking_model.predict(data)\n",
    "\n",
    "# 확인\n",
    "print(predicted)"
   ]
  },
  {
   "cell_type": "markdown",
   "metadata": {
    "id": "N5eeJKV-JaUq"
   },
   "source": [
    "- 아파트 기본 정보에 예측한 차량수를 붙여 마무리합니다."
   ]
  },
  {
   "cell_type": "code",
   "execution_count": 330,
   "metadata": {
    "id": "4k8bVSDBJaUq"
   },
   "outputs": [
    {
     "data": {
      "text/html": [
       "<div>\n",
       "<style scoped>\n",
       "    .dataframe tbody tr th:only-of-type {\n",
       "        vertical-align: middle;\n",
       "    }\n",
       "\n",
       "    .dataframe tbody tr th {\n",
       "        vertical-align: top;\n",
       "    }\n",
       "\n",
       "    .dataframe thead th {\n",
       "        text-align: right;\n",
       "    }\n",
       "</style>\n",
       "<table border=\"1\" class=\"dataframe\">\n",
       "  <thead>\n",
       "    <tr style=\"text-align: right;\">\n",
       "      <th></th>\n",
       "      <th>단지코드</th>\n",
       "      <th>단지명</th>\n",
       "      <th>총세대수</th>\n",
       "      <th>지역</th>\n",
       "      <th>예상차량수</th>\n",
       "    </tr>\n",
       "  </thead>\n",
       "  <tbody>\n",
       "    <tr>\n",
       "      <th>0</th>\n",
       "      <td>C0005</td>\n",
       "      <td>서울석촌 도시형주택(공임10년)</td>\n",
       "      <td>20</td>\n",
       "      <td>서울</td>\n",
       "      <td>199</td>\n",
       "    </tr>\n",
       "    <tr>\n",
       "      <th>1</th>\n",
       "      <td>C0017</td>\n",
       "      <td>대구혁신센텀힐즈</td>\n",
       "      <td>822</td>\n",
       "      <td>대구경북</td>\n",
       "      <td>498</td>\n",
       "    </tr>\n",
       "    <tr>\n",
       "      <th>2</th>\n",
       "      <td>C0034</td>\n",
       "      <td>광교 호반마을 22단지 아파트</td>\n",
       "      <td>112</td>\n",
       "      <td>경기</td>\n",
       "      <td>518</td>\n",
       "    </tr>\n",
       "    <tr>\n",
       "      <th>3</th>\n",
       "      <td>C0046</td>\n",
       "      <td>죽미마을 휴먼시아12단지</td>\n",
       "      <td>122</td>\n",
       "      <td>경기</td>\n",
       "      <td>543</td>\n",
       "    </tr>\n",
       "    <tr>\n",
       "      <th>4</th>\n",
       "      <td>C0055</td>\n",
       "      <td>파주운정 한울마을 6단지</td>\n",
       "      <td>262</td>\n",
       "      <td>경기</td>\n",
       "      <td>614</td>\n",
       "    </tr>\n",
       "    <tr>\n",
       "      <th>5</th>\n",
       "      <td>C0072</td>\n",
       "      <td>벌교제석휴먼시아</td>\n",
       "      <td>35</td>\n",
       "      <td>광주전남</td>\n",
       "      <td>501</td>\n",
       "    </tr>\n",
       "    <tr>\n",
       "      <th>6</th>\n",
       "      <td>C0073</td>\n",
       "      <td>무안남악오룡마을</td>\n",
       "      <td>47</td>\n",
       "      <td>광주전남</td>\n",
       "      <td>300</td>\n",
       "    </tr>\n",
       "    <tr>\n",
       "      <th>7</th>\n",
       "      <td>C0084</td>\n",
       "      <td>진해 석동우림필유 아파트</td>\n",
       "      <td>152</td>\n",
       "      <td>경남</td>\n",
       "      <td>651</td>\n",
       "    </tr>\n",
       "    <tr>\n",
       "      <th>8</th>\n",
       "      <td>C0085</td>\n",
       "      <td>김해북부 두산위브 아파트</td>\n",
       "      <td>73</td>\n",
       "      <td>경남</td>\n",
       "      <td>576</td>\n",
       "    </tr>\n",
       "    <tr>\n",
       "      <th>9</th>\n",
       "      <td>C0112</td>\n",
       "      <td>운암주공6단지아파트</td>\n",
       "      <td>571</td>\n",
       "      <td>경기</td>\n",
       "      <td>497</td>\n",
       "    </tr>\n",
       "    <tr>\n",
       "      <th>10</th>\n",
       "      <td>C0114</td>\n",
       "      <td>가평읍내주공아파트</td>\n",
       "      <td>355</td>\n",
       "      <td>서울</td>\n",
       "      <td>292</td>\n",
       "    </tr>\n",
       "    <tr>\n",
       "      <th>11</th>\n",
       "      <td>C1149</td>\n",
       "      <td>부산장안A-1BL</td>\n",
       "      <td>96</td>\n",
       "      <td>부산울산</td>\n",
       "      <td>151</td>\n",
       "    </tr>\n",
       "    <tr>\n",
       "      <th>12</th>\n",
       "      <td>C0154</td>\n",
       "      <td>정관신도시휴먼시아1단지</td>\n",
       "      <td>1533</td>\n",
       "      <td>부산울산</td>\n",
       "      <td>1527</td>\n",
       "    </tr>\n",
       "    <tr>\n",
       "      <th>13</th>\n",
       "      <td>C0159</td>\n",
       "      <td>율하휴먼시아 7단지</td>\n",
       "      <td>712</td>\n",
       "      <td>대구경북</td>\n",
       "      <td>641</td>\n",
       "    </tr>\n",
       "    <tr>\n",
       "      <th>14</th>\n",
       "      <td>C0174</td>\n",
       "      <td>대구서재휴먼시아</td>\n",
       "      <td>757</td>\n",
       "      <td>대구경북</td>\n",
       "      <td>507</td>\n",
       "    </tr>\n",
       "    <tr>\n",
       "      <th>15</th>\n",
       "      <td>C0177</td>\n",
       "      <td>인천소래 휴먼시아 1단지</td>\n",
       "      <td>882</td>\n",
       "      <td>경기</td>\n",
       "      <td>730</td>\n",
       "    </tr>\n",
       "    <tr>\n",
       "      <th>16</th>\n",
       "      <td>C0182</td>\n",
       "      <td>동양주공아파트2단지</td>\n",
       "      <td>668</td>\n",
       "      <td>경기</td>\n",
       "      <td>604</td>\n",
       "    </tr>\n",
       "    <tr>\n",
       "      <th>17</th>\n",
       "      <td>C0200</td>\n",
       "      <td>매곡부림2차아파트</td>\n",
       "      <td>62</td>\n",
       "      <td>광주전남</td>\n",
       "      <td>152</td>\n",
       "    </tr>\n",
       "    <tr>\n",
       "      <th>18</th>\n",
       "      <td>C0225</td>\n",
       "      <td>신완마을 휴먼시아 6단지</td>\n",
       "      <td>1116</td>\n",
       "      <td>광주전남</td>\n",
       "      <td>1013</td>\n",
       "    </tr>\n",
       "    <tr>\n",
       "      <th>19</th>\n",
       "      <td>C0258</td>\n",
       "      <td>수원호매실 휴먼시아 8단지 아파트</td>\n",
       "      <td>1270</td>\n",
       "      <td>경기</td>\n",
       "      <td>896</td>\n",
       "    </tr>\n",
       "    <tr>\n",
       "      <th>20</th>\n",
       "      <td>C0267</td>\n",
       "      <td>신곡주공3단지</td>\n",
       "      <td>322</td>\n",
       "      <td>서울</td>\n",
       "      <td>307</td>\n",
       "    </tr>\n",
       "    <tr>\n",
       "      <th>21</th>\n",
       "      <td>C0272</td>\n",
       "      <td>용암마을13단지</td>\n",
       "      <td>996</td>\n",
       "      <td>서울</td>\n",
       "      <td>835</td>\n",
       "    </tr>\n",
       "    <tr>\n",
       "      <th>22</th>\n",
       "      <td>C0276</td>\n",
       "      <td>동편마을1단지</td>\n",
       "      <td>1017</td>\n",
       "      <td>경기</td>\n",
       "      <td>747</td>\n",
       "    </tr>\n",
       "    <tr>\n",
       "      <th>23</th>\n",
       "      <td>C0285</td>\n",
       "      <td>소사벌휴먼시아2단지</td>\n",
       "      <td>992</td>\n",
       "      <td>경기</td>\n",
       "      <td>837</td>\n",
       "    </tr>\n",
       "    <tr>\n",
       "      <th>24</th>\n",
       "      <td>C0286</td>\n",
       "      <td>소사벌 이곡마을3단지</td>\n",
       "      <td>1191</td>\n",
       "      <td>경기</td>\n",
       "      <td>893</td>\n",
       "    </tr>\n",
       "    <tr>\n",
       "      <th>25</th>\n",
       "      <td>C2306</td>\n",
       "      <td>양주옥정8</td>\n",
       "      <td>344</td>\n",
       "      <td>서울</td>\n",
       "      <td>264</td>\n",
       "    </tr>\n",
       "    <tr>\n",
       "      <th>26</th>\n",
       "      <td>C0309</td>\n",
       "      <td>진천이월</td>\n",
       "      <td>82</td>\n",
       "      <td>충북</td>\n",
       "      <td>192</td>\n",
       "    </tr>\n",
       "    <tr>\n",
       "      <th>27</th>\n",
       "      <td>C0352</td>\n",
       "      <td>대전판암4</td>\n",
       "      <td>2389</td>\n",
       "      <td>대전충남</td>\n",
       "      <td>1187</td>\n",
       "    </tr>\n",
       "    <tr>\n",
       "      <th>28</th>\n",
       "      <td>C0353</td>\n",
       "      <td>대전판암3</td>\n",
       "      <td>768</td>\n",
       "      <td>대전충남</td>\n",
       "      <td>383</td>\n",
       "    </tr>\n",
       "    <tr>\n",
       "      <th>29</th>\n",
       "      <td>C0360</td>\n",
       "      <td>하남미사 A26BL</td>\n",
       "      <td>588</td>\n",
       "      <td>서울</td>\n",
       "      <td>896</td>\n",
       "    </tr>\n",
       "  </tbody>\n",
       "</table>\n",
       "</div>"
      ],
      "text/plain": [
       "     단지코드                 단지명  총세대수    지역  예상차량수\n",
       "0   C0005   서울석촌 도시형주택(공임10년)    20    서울    199\n",
       "1   C0017            대구혁신센텀힐즈   822  대구경북    498\n",
       "2   C0034    광교 호반마을 22단지 아파트   112    경기    518\n",
       "3   C0046       죽미마을 휴먼시아12단지   122    경기    543\n",
       "4   C0055       파주운정 한울마을 6단지   262    경기    614\n",
       "5   C0072            벌교제석휴먼시아    35  광주전남    501\n",
       "6   C0073            무안남악오룡마을    47  광주전남    300\n",
       "7   C0084       진해 석동우림필유 아파트   152    경남    651\n",
       "8   C0085       김해북부 두산위브 아파트    73    경남    576\n",
       "9   C0112          운암주공6단지아파트   571    경기    497\n",
       "10  C0114           가평읍내주공아파트   355    서울    292\n",
       "11  C1149           부산장안A-1BL    96  부산울산    151\n",
       "12  C0154        정관신도시휴먼시아1단지  1533  부산울산   1527\n",
       "13  C0159          율하휴먼시아 7단지   712  대구경북    641\n",
       "14  C0174            대구서재휴먼시아   757  대구경북    507\n",
       "15  C0177       인천소래 휴먼시아 1단지   882    경기    730\n",
       "16  C0182          동양주공아파트2단지   668    경기    604\n",
       "17  C0200           매곡부림2차아파트    62  광주전남    152\n",
       "18  C0225       신완마을 휴먼시아 6단지  1116  광주전남   1013\n",
       "19  C0258  수원호매실 휴먼시아 8단지 아파트  1270    경기    896\n",
       "20  C0267             신곡주공3단지   322    서울    307\n",
       "21  C0272            용암마을13단지   996    서울    835\n",
       "22  C0276             동편마을1단지  1017    경기    747\n",
       "23  C0285          소사벌휴먼시아2단지   992    경기    837\n",
       "24  C0286         소사벌 이곡마을3단지  1191    경기    893\n",
       "25  C2306               양주옥정8   344    서울    264\n",
       "26  C0309                진천이월    82    충북    192\n",
       "27  C0352               대전판암4  2389  대전충남   1187\n",
       "28  C0353               대전판암3   768  대전충남    383\n",
       "29  C0360          하남미사 A26BL   588    서울    896"
      ]
     },
     "execution_count": 330,
     "metadata": {},
     "output_type": "execute_result"
    }
   ],
   "source": [
    "# 데이터 셋 두개로 나누기\n",
    "vars = ['단지코드', '단지명', '총세대수', '지역', ]\n",
    "result = new_data[vars].copy()\n",
    "result = result.drop_duplicates()\n",
    "result.reset_index(drop=True, inplace=True)\n",
    "\n",
    "# 예측 결과 추가\n",
    "result['예상차량수'] = predicted.round(1).astype(int)\n",
    "\n",
    "# 확인\n",
    "result"
   ]
  },
  {
   "cell_type": "code",
   "execution_count": 334,
   "metadata": {},
   "outputs": [],
   "source": [
    "# 실젯값, 예측값 비교 함수 만들기\n",
    "\n",
    "def model_plot(y_test, y_pred):\n",
    "    plt.figure(figsize=(10, 3))\n",
    "    plt.plot(y_test.values, label='Actual', linewidth=0.7, marker='o', markersize=2)\n",
    "    plt.plot(y_pred, label='Predicted', linewidth=0.7, marker='o', markersize=2)\n",
    "    plt.legend()\n",
    "    plt.show()\n"
   ]
  },
  {
   "cell_type": "code",
   "execution_count": 336,
   "metadata": {},
   "outputs": [
    {
     "data": {
      "image/png": "[encoded data removed]",
      "text/plain": [
       "<Figure size 1000x300 with 1 Axes>"
      ]
     },
     "metadata": {
      "image/png": {
       "height": 273,
       "width": 838
      }
     },
     "output_type": "display_data"
    }
   ],
   "source": [
    "model_plot(y_test, y_pred)"
   ]
  },
  {
   "cell_type": "code",
   "execution_count": null,
   "metadata": {},
   "outputs": [],
   "source": []
  }
 ],
 "metadata": {
  "accelerator": "GPU",
  "colab": {
   "provenance": []
  },
  "gpuClass": "standard",
  "kernelspec": {
   "display_name": "Python 3 (ipykernel)",
   "language": "python",
   "name": "python3"
  },
  "language_info": {
   "codemirror_mode": {
    "name": "ipython",
    "version": 3
   },
   "file_extension": ".py",
   "mimetype": "text/x-python",
   "name": "python",
   "nbconvert_exporter": "python",
   "pygments_lexer": "ipython3",
   "version": "3.12.4"
  }
 },
 "nbformat": 4,
 "nbformat_minor": 4
}
