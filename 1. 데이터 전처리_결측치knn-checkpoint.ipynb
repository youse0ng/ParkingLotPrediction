{
 "cells": [
  {
   "cell_type": "markdown",
   "metadata": {
    "id": "OZoqODKZL2NO"
   },
   "source": [
    "# AIVLE스쿨 2차 미니프로젝트: 신규 아파트 주차 수요 예측"
   ]
  },
  {
   "cell_type": "markdown",
   "metadata": {
    "id": "smKmJd_eL2NP"
   },
   "source": [
    "<img src = \"https://github.com/Jangrae/img/blob/master/parking.png?raw=true\" width=800, align=\"left\"/>"
   ]
  },
  {
   "cell_type": "markdown",
   "metadata": {
    "id": "mJlY5pHkC2AM"
   },
   "source": [
    "# 단계 1: 데이터 전처리"
   ]
  },
  {
   "cell_type": "markdown",
   "metadata": {
    "id": "-FPypzell2uc"
   },
   "source": [
    "## [미션]\n",
    "\n",
    "단지별 등록 차량 수를 예측하기에 적합한 형태로 데이터 전처리를 수행합니다.\n",
    "\n",
    "1) 필요한 변수를 추가하고 불필요한 변수를 제거합니다.\n",
    "2) 단지별 데이터와 상세 데이터를 분리합니다.\n",
    "3) 상세 데이터를 단지별로 집계합니다.\n",
    "    - 단지별 총면적 집계\n",
    "    - 전용면적구간 집계 (피벗형태)\n",
    "    - 단지별 임대보증금, 임대료 평균 집계\n",
    "4) 단지별 데이터와 집계 데이터를 하나로 합칩니다.\n",
    "5) 변수 추가 (옵션)\n",
    "    - 등록 차량수를 예측하기 위해 필요한 변수를 추가합니다."
   ]
  },
  {
   "cell_type": "markdown",
   "metadata": {
    "id": "NCptKiLOAn7l"
   },
   "source": [
    "## 1. 환경설정"
   ]
  },
  {
   "cell_type": "markdown",
   "metadata": {
    "id": "gklxNfgNpkls"
   },
   "source": [
    "### (1) 로컬 수행(Anaconda)\n",
    "\n",
    "- project 폴더에 필요한 파일들을 넣고, 본 파일을 열었다면, 별도 경로 지정이 필요하지 않습니다."
   ]
  },
  {
   "cell_type": "code",
   "execution_count": null,
   "metadata": {
    "id": "PNI6X2yxpkls",
    "tags": []
   },
   "outputs": [],
   "source": [
    "# 기본 경로\n",
    "path = ''"
   ]
  },
  {
   "cell_type": "markdown",
   "metadata": {
    "id": "7rWT4biQpkls"
   },
   "source": [
    "### (2) 구글 콜랩 수행\n",
    "\n",
    "- 구글 콜랩을 사용중이면 구글 드라이브를 연결합니다."
   ]
  },
  {
   "cell_type": "code",
   "execution_count": 223,
   "metadata": {
    "id": "CLasRk8Spklt",
    "tags": []
   },
   "outputs": [],
   "source": [
    "# 구글 드라이브 연결, 패스 지정\n",
    "import sys\n",
    "if 'google.colab' in sys.modules:\n",
    "    from google.colab import drive\n",
    "    drive.mount('/content/drive')\n",
    "    path = '/content/drive/MyDrive/project/'"
   ]
  },
  {
   "cell_type": "markdown",
   "metadata": {
    "id": "wkcb3dwgL2NR"
   },
   "source": [
    "### (3) 한글 폰트 표시용 라이브러리 설치"
   ]
  },
  {
   "cell_type": "code",
   "execution_count": 226,
   "metadata": {
    "id": "QP8erRAbL2NR"
   },
   "outputs": [],
   "source": [
    "# 한글 표시를 위한 라이브러리 설치\n",
    "# !pip install koreanize_matplotlib -q"
   ]
  },
  {
   "cell_type": "markdown",
   "metadata": {
    "id": "Nkoo0SzIL2NR"
   },
   "source": [
    "### (4) 라이브러리 불러오기"
   ]
  },
  {
   "cell_type": "code",
   "execution_count": 229,
   "metadata": {
    "id": "wqct4c1DL2NR",
    "tags": []
   },
   "outputs": [],
   "source": [
    "# 라이브러리 불러오기\n",
    "import numpy as np\n",
    "import pandas as pd\n",
    "import matplotlib.pyplot as plt\n",
    "import koreanize_matplotlib\n",
    "import seaborn as sns\n",
    "\n",
    "import joblib\n",
    "import warnings\n",
    "\n",
    "warnings.filterwarnings(action='ignore')\n",
    "%config InlineBackend.figure_format='retina'"
   ]
  },
  {
   "cell_type": "markdown",
   "metadata": {
    "id": "dPfPWkG1txqV"
   },
   "source": [
    "### (5) 데이터 불러오기\n",
    "\n",
    "- 학습용 데이터(train.xlsx)를 읽어옵니다.\n",
    "- 읽어온 데이터를 apart 데이터프레임으로 선언합니다.\n",
    "- 평가용 데이터(test.xlsx) 파일은 모델 완성 후 사용할 미래의 데이터입니다."
   ]
  },
  {
   "cell_type": "markdown",
   "metadata": {
    "id": "fmgUEGOipvG5"
   },
   "source": [
    "#### 1) 데이터 불러오기"
   ]
  },
  {
   "cell_type": "code",
   "execution_count": 233,
   "metadata": {
    "id": "ZpMoNMpcQoQ5"
   },
   "outputs": [],
   "source": [
    "# 파일 불러오기\n",
    "apart = pd.read_excel('train.xlsx')"
   ]
  },
  {
   "cell_type": "markdown",
   "metadata": {
    "id": "aI7qJqz3pr3m"
   },
   "source": [
    "#### 2) 기본 정보 조회"
   ]
  },
  {
   "cell_type": "code",
   "execution_count": 235,
   "metadata": {
    "id": "yFVSAGNhpr3m"
   },
   "outputs": [
    {
     "name": "stdout",
     "output_type": "stream",
     "text": [
      "<class 'pandas.core.frame.DataFrame'>\n",
      "RangeIndex: 1157 entries, 0 to 1156\n",
      "Data columns (total 15 columns):\n",
      " #   Column    Non-Null Count  Dtype  \n",
      "---  ------    --------------  -----  \n",
      " 0   단지코드      1157 non-null   object \n",
      " 1   단지명       1157 non-null   object \n",
      " 2   총세대수      1157 non-null   int64  \n",
      " 3   전용면적별세대수  1157 non-null   int64  \n",
      " 4   지역        1157 non-null   object \n",
      " 5   준공일자      1157 non-null   int64  \n",
      " 6   건물형태      1135 non-null   object \n",
      " 7   난방방식      1082 non-null   object \n",
      " 8   승강기설치여부   1059 non-null   object \n",
      " 9   단지내주차면수   1157 non-null   int64  \n",
      " 10  전용면적      1157 non-null   float64\n",
      " 11  공용면적      1157 non-null   float64\n",
      " 12  임대보증금     1157 non-null   int64  \n",
      " 13  임대료       1157 non-null   int64  \n",
      " 14  실차량수      1157 non-null   int64  \n",
      "dtypes: float64(2), int64(7), object(6)\n",
      "memory usage: 135.7+ KB\n"
     ]
    }
   ],
   "source": [
    "apart.info()\n",
    "# 건물형태, 난방방식,승강기설치여부가 갯수가 다름 결측치 존재!"
   ]
  },
  {
   "cell_type": "code",
   "execution_count": 236,
   "metadata": {
    "id": "xJnnr8K-pr3m"
   },
   "outputs": [
    {
     "data": {
      "text/html": [
       "<div>\n",
       "<style scoped>\n",
       "    .dataframe tbody tr th:only-of-type {\n",
       "        vertical-align: middle;\n",
       "    }\n",
       "\n",
       "    .dataframe tbody tr th {\n",
       "        vertical-align: top;\n",
       "    }\n",
       "\n",
       "    .dataframe thead th {\n",
       "        text-align: right;\n",
       "    }\n",
       "</style>\n",
       "<table border=\"1\" class=\"dataframe\">\n",
       "  <thead>\n",
       "    <tr style=\"text-align: right;\">\n",
       "      <th></th>\n",
       "      <th>총세대수</th>\n",
       "      <th>전용면적별세대수</th>\n",
       "      <th>준공일자</th>\n",
       "      <th>단지내주차면수</th>\n",
       "      <th>전용면적</th>\n",
       "      <th>공용면적</th>\n",
       "      <th>임대보증금</th>\n",
       "      <th>임대료</th>\n",
       "      <th>실차량수</th>\n",
       "    </tr>\n",
       "  </thead>\n",
       "  <tbody>\n",
       "    <tr>\n",
       "      <th>count</th>\n",
       "      <td>1157.000000</td>\n",
       "      <td>1157.000000</td>\n",
       "      <td>1.157000e+03</td>\n",
       "      <td>1157.000000</td>\n",
       "      <td>1157.000000</td>\n",
       "      <td>1157.000000</td>\n",
       "      <td>1.157000e+03</td>\n",
       "      <td>1.157000e+03</td>\n",
       "      <td>1157.000000</td>\n",
       "    </tr>\n",
       "    <tr>\n",
       "      <th>mean</th>\n",
       "      <td>659.075194</td>\n",
       "      <td>163.691443</td>\n",
       "      <td>2.008667e+07</td>\n",
       "      <td>682.261884</td>\n",
       "      <td>51.565584</td>\n",
       "      <td>20.562360</td>\n",
       "      <td>2.850789e+07</td>\n",
       "      <td>2.259409e+05</td>\n",
       "      <td>650.762316</td>\n",
       "    </tr>\n",
       "    <tr>\n",
       "      <th>std</th>\n",
       "      <td>456.110643</td>\n",
       "      <td>166.766358</td>\n",
       "      <td>6.777985e+04</td>\n",
       "      <td>473.331805</td>\n",
       "      <td>18.243315</td>\n",
       "      <td>5.164405</td>\n",
       "      <td>2.890687e+07</td>\n",
       "      <td>1.768102e+05</td>\n",
       "      <td>390.573462</td>\n",
       "    </tr>\n",
       "    <tr>\n",
       "      <th>min</th>\n",
       "      <td>1.000000</td>\n",
       "      <td>1.000000</td>\n",
       "      <td>1.992010e+07</td>\n",
       "      <td>10.000000</td>\n",
       "      <td>17.590000</td>\n",
       "      <td>5.850000</td>\n",
       "      <td>0.000000e+00</td>\n",
       "      <td>0.000000e+00</td>\n",
       "      <td>21.000000</td>\n",
       "    </tr>\n",
       "    <tr>\n",
       "      <th>25%</th>\n",
       "      <td>315.000000</td>\n",
       "      <td>44.000000</td>\n",
       "      <td>2.005031e+07</td>\n",
       "      <td>308.000000</td>\n",
       "      <td>39.480000</td>\n",
       "      <td>16.997400</td>\n",
       "      <td>1.379700e+07</td>\n",
       "      <td>1.177400e+05</td>\n",
       "      <td>320.000000</td>\n",
       "    </tr>\n",
       "    <tr>\n",
       "      <th>50%</th>\n",
       "      <td>595.000000</td>\n",
       "      <td>112.000000</td>\n",
       "      <td>2.010042e+07</td>\n",
       "      <td>629.000000</td>\n",
       "      <td>46.900000</td>\n",
       "      <td>20.384700</td>\n",
       "      <td>1.997300e+07</td>\n",
       "      <td>1.842900e+05</td>\n",
       "      <td>626.000000</td>\n",
       "    </tr>\n",
       "    <tr>\n",
       "      <th>75%</th>\n",
       "      <td>918.000000</td>\n",
       "      <td>229.000000</td>\n",
       "      <td>2.013121e+07</td>\n",
       "      <td>911.000000</td>\n",
       "      <td>59.810000</td>\n",
       "      <td>23.722500</td>\n",
       "      <td>3.375300e+07</td>\n",
       "      <td>2.634400e+05</td>\n",
       "      <td>894.000000</td>\n",
       "    </tr>\n",
       "    <tr>\n",
       "      <th>max</th>\n",
       "      <td>2289.000000</td>\n",
       "      <td>1258.000000</td>\n",
       "      <td>2.022071e+07</td>\n",
       "      <td>4553.000000</td>\n",
       "      <td>139.350000</td>\n",
       "      <td>42.760000</td>\n",
       "      <td>2.549220e+08</td>\n",
       "      <td>1.058030e+06</td>\n",
       "      <td>1657.000000</td>\n",
       "    </tr>\n",
       "  </tbody>\n",
       "</table>\n",
       "</div>"
      ],
      "text/plain": [
       "              총세대수     전용면적별세대수          준공일자      단지내주차면수         전용면적  \\\n",
       "count  1157.000000  1157.000000  1.157000e+03  1157.000000  1157.000000   \n",
       "mean    659.075194   163.691443  2.008667e+07   682.261884    51.565584   \n",
       "std     456.110643   166.766358  6.777985e+04   473.331805    18.243315   \n",
       "min       1.000000     1.000000  1.992010e+07    10.000000    17.590000   \n",
       "25%     315.000000    44.000000  2.005031e+07   308.000000    39.480000   \n",
       "50%     595.000000   112.000000  2.010042e+07   629.000000    46.900000   \n",
       "75%     918.000000   229.000000  2.013121e+07   911.000000    59.810000   \n",
       "max    2289.000000  1258.000000  2.022071e+07  4553.000000   139.350000   \n",
       "\n",
       "              공용면적         임대보증금           임대료         실차량수  \n",
       "count  1157.000000  1.157000e+03  1.157000e+03  1157.000000  \n",
       "mean     20.562360  2.850789e+07  2.259409e+05   650.762316  \n",
       "std       5.164405  2.890687e+07  1.768102e+05   390.573462  \n",
       "min       5.850000  0.000000e+00  0.000000e+00    21.000000  \n",
       "25%      16.997400  1.379700e+07  1.177400e+05   320.000000  \n",
       "50%      20.384700  1.997300e+07  1.842900e+05   626.000000  \n",
       "75%      23.722500  3.375300e+07  2.634400e+05   894.000000  \n",
       "max      42.760000  2.549220e+08  1.058030e+06  1657.000000  "
      ]
     },
     "execution_count": 236,
     "metadata": {},
     "output_type": "execute_result"
    }
   ],
   "source": [
    "apart.describe()\n"
   ]
  },
  {
   "cell_type": "code",
   "execution_count": 237,
   "metadata": {
    "id": "ajJ1qJkhpr3n"
   },
   "outputs": [
    {
     "data": {
      "text/html": [
       "<div>\n",
       "<style scoped>\n",
       "    .dataframe tbody tr th:only-of-type {\n",
       "        vertical-align: middle;\n",
       "    }\n",
       "\n",
       "    .dataframe tbody tr th {\n",
       "        vertical-align: top;\n",
       "    }\n",
       "\n",
       "    .dataframe thead th {\n",
       "        text-align: right;\n",
       "    }\n",
       "</style>\n",
       "<table border=\"1\" class=\"dataframe\">\n",
       "  <thead>\n",
       "    <tr style=\"text-align: right;\">\n",
       "      <th></th>\n",
       "      <th>단지코드</th>\n",
       "      <th>단지명</th>\n",
       "      <th>총세대수</th>\n",
       "      <th>전용면적별세대수</th>\n",
       "      <th>지역</th>\n",
       "      <th>준공일자</th>\n",
       "      <th>건물형태</th>\n",
       "      <th>난방방식</th>\n",
       "      <th>승강기설치여부</th>\n",
       "      <th>단지내주차면수</th>\n",
       "      <th>전용면적</th>\n",
       "      <th>공용면적</th>\n",
       "      <th>임대보증금</th>\n",
       "      <th>임대료</th>\n",
       "      <th>실차량수</th>\n",
       "    </tr>\n",
       "  </thead>\n",
       "  <tbody>\n",
       "    <tr>\n",
       "      <th>0</th>\n",
       "      <td>C0001</td>\n",
       "      <td>엘에이치 서초4단지</td>\n",
       "      <td>78</td>\n",
       "      <td>35</td>\n",
       "      <td>서울</td>\n",
       "      <td>20131204</td>\n",
       "      <td>계단식</td>\n",
       "      <td>개별가스난방</td>\n",
       "      <td>전체동 설치</td>\n",
       "      <td>120</td>\n",
       "      <td>51.89</td>\n",
       "      <td>19.2603</td>\n",
       "      <td>50758000</td>\n",
       "      <td>620370</td>\n",
       "      <td>109</td>\n",
       "    </tr>\n",
       "    <tr>\n",
       "      <th>1</th>\n",
       "      <td>C0001</td>\n",
       "      <td>엘에이치 서초4단지</td>\n",
       "      <td>78</td>\n",
       "      <td>43</td>\n",
       "      <td>서울</td>\n",
       "      <td>20131204</td>\n",
       "      <td>계단식</td>\n",
       "      <td>개별가스난방</td>\n",
       "      <td>전체동 설치</td>\n",
       "      <td>120</td>\n",
       "      <td>59.93</td>\n",
       "      <td>22.2446</td>\n",
       "      <td>63166000</td>\n",
       "      <td>665490</td>\n",
       "      <td>109</td>\n",
       "    </tr>\n",
       "    <tr>\n",
       "      <th>2</th>\n",
       "      <td>C0002</td>\n",
       "      <td>LH삼성아파트</td>\n",
       "      <td>35</td>\n",
       "      <td>26</td>\n",
       "      <td>서울</td>\n",
       "      <td>20130801</td>\n",
       "      <td>복도식</td>\n",
       "      <td>개별가스난방</td>\n",
       "      <td>전체동 설치</td>\n",
       "      <td>47</td>\n",
       "      <td>27.75</td>\n",
       "      <td>16.5375</td>\n",
       "      <td>63062000</td>\n",
       "      <td>458640</td>\n",
       "      <td>35</td>\n",
       "    </tr>\n",
       "    <tr>\n",
       "      <th>3</th>\n",
       "      <td>C0002</td>\n",
       "      <td>LH삼성아파트</td>\n",
       "      <td>35</td>\n",
       "      <td>9</td>\n",
       "      <td>서울</td>\n",
       "      <td>20130801</td>\n",
       "      <td>복도식</td>\n",
       "      <td>개별가스난방</td>\n",
       "      <td>전체동 설치</td>\n",
       "      <td>47</td>\n",
       "      <td>29.08</td>\n",
       "      <td>17.3302</td>\n",
       "      <td>63062000</td>\n",
       "      <td>481560</td>\n",
       "      <td>35</td>\n",
       "    </tr>\n",
       "    <tr>\n",
       "      <th>4</th>\n",
       "      <td>C0003</td>\n",
       "      <td>강남LH8단지</td>\n",
       "      <td>88</td>\n",
       "      <td>7</td>\n",
       "      <td>서울</td>\n",
       "      <td>20131023</td>\n",
       "      <td>계단식</td>\n",
       "      <td>개별가스난방</td>\n",
       "      <td>전체동 설치</td>\n",
       "      <td>106</td>\n",
       "      <td>59.47</td>\n",
       "      <td>21.9462</td>\n",
       "      <td>72190000</td>\n",
       "      <td>586540</td>\n",
       "      <td>88</td>\n",
       "    </tr>\n",
       "  </tbody>\n",
       "</table>\n",
       "</div>"
      ],
      "text/plain": [
       "    단지코드         단지명  총세대수  전용면적별세대수  지역      준공일자 건물형태    난방방식 승강기설치여부  \\\n",
       "0  C0001  엘에이치 서초4단지    78        35  서울  20131204  계단식  개별가스난방  전체동 설치   \n",
       "1  C0001  엘에이치 서초4단지    78        43  서울  20131204  계단식  개별가스난방  전체동 설치   \n",
       "2  C0002     LH삼성아파트    35        26  서울  20130801  복도식  개별가스난방  전체동 설치   \n",
       "3  C0002     LH삼성아파트    35         9  서울  20130801  복도식  개별가스난방  전체동 설치   \n",
       "4  C0003     강남LH8단지    88         7  서울  20131023  계단식  개별가스난방  전체동 설치   \n",
       "\n",
       "   단지내주차면수   전용면적     공용면적     임대보증금     임대료  실차량수  \n",
       "0      120  51.89  19.2603  50758000  620370   109  \n",
       "1      120  59.93  22.2446  63166000  665490   109  \n",
       "2       47  27.75  16.5375  63062000  458640    35  \n",
       "3       47  29.08  17.3302  63062000  481560    35  \n",
       "4      106  59.47  21.9462  72190000  586540    88  "
      ]
     },
     "execution_count": 237,
     "metadata": {},
     "output_type": "execute_result"
    }
   ],
   "source": [
    "apart.head()\n"
   ]
  },
  {
   "cell_type": "markdown",
   "metadata": {
    "id": "wcSokv_rvG-R"
   },
   "source": [
    "## 2. 데이터 전처리 ①\n",
    "\n",
    "- 결측치 존재 여부를 확인하고 적절히 처리합니다.\n",
    "- 필요한 변수를 추가하고, 불필요한 변수를 제거합니다."
   ]
  },
  {
   "cell_type": "markdown",
   "metadata": {
    "id": "Qa6M07r39NgH"
   },
   "source": [
    "### (1) 결측치 처리\n",
    "\n",
    "- 결측치가 있는 지 확인합니다."
   ]
  },
  {
   "cell_type": "code",
   "execution_count": 243,
   "metadata": {
    "id": "eooU_CN4x_B6"
   },
   "outputs": [
    {
     "data": {
      "text/plain": [
       "단지코드         0\n",
       "단지명          0\n",
       "총세대수         0\n",
       "전용면적별세대수     0\n",
       "지역           0\n",
       "준공일자         0\n",
       "건물형태        22\n",
       "난방방식        75\n",
       "승강기설치여부     98\n",
       "단지내주차면수      0\n",
       "전용면적         0\n",
       "공용면적         0\n",
       "임대보증금        0\n",
       "임대료          0\n",
       "실차량수         0\n",
       "dtype: int64"
      ]
     },
     "execution_count": 243,
     "metadata": {},
     "output_type": "execute_result"
    }
   ],
   "source": [
    "apart.isna().sum()"
   ]
  },
  {
   "cell_type": "markdown",
   "metadata": {},
   "source": [
    "- 결측치는 적절한 값으로 채웁니다.\n",
    "- 예를 들어 범주형 변수인 경우는 각 변수의 최빈값으로 채울 수 있습니다."
   ]
  },
  {
   "cell_type": "code",
   "execution_count": 246,
   "metadata": {},
   "outputs": [],
   "source": [
    "apart.fillna(apart.mode().iloc[0], inplace=True)"
   ]
  },
  {
   "cell_type": "code",
   "execution_count": 247,
   "metadata": {},
   "outputs": [
    {
     "name": "stdout",
     "output_type": "stream",
     "text": [
      "<class 'pandas.core.frame.DataFrame'>\n",
      "RangeIndex: 1157 entries, 0 to 1156\n",
      "Data columns (total 15 columns):\n",
      " #   Column    Non-Null Count  Dtype  \n",
      "---  ------    --------------  -----  \n",
      " 0   단지코드      1157 non-null   object \n",
      " 1   단지명       1157 non-null   object \n",
      " 2   총세대수      1157 non-null   int64  \n",
      " 3   전용면적별세대수  1157 non-null   int64  \n",
      " 4   지역        1157 non-null   object \n",
      " 5   준공일자      1157 non-null   int64  \n",
      " 6   건물형태      1157 non-null   object \n",
      " 7   난방방식      1157 non-null   object \n",
      " 8   승강기설치여부   1157 non-null   object \n",
      " 9   단지내주차면수   1157 non-null   int64  \n",
      " 10  전용면적      1157 non-null   float64\n",
      " 11  공용면적      1157 non-null   float64\n",
      " 12  임대보증금     1157 non-null   int64  \n",
      " 13  임대료       1157 non-null   int64  \n",
      " 14  실차량수      1157 non-null   int64  \n",
      "dtypes: float64(2), int64(7), object(6)\n",
      "memory usage: 135.7+ KB\n"
     ]
    }
   ],
   "source": [
    "apart.info()"
   ]
  },
  {
   "cell_type": "markdown",
   "metadata": {
    "id": "bfXfHCsDL2NS"
   },
   "source": [
    "### (2) 변수 추가\n",
    "\n",
    "- '준공일자' 변수 값 앞 4 자리를 갖는 int 형 변수 '준공연도'를 추가합니다.\n",
    "- 총면적 = (전용면적 + 공용면적) * 전용면적별세대수 공식에 따른'총면적' 변수를 추가합니다."
   ]
  },
  {
   "cell_type": "code",
   "execution_count": 250,
   "metadata": {
    "id": "nX8-ZC5k3JQv"
   },
   "outputs": [],
   "source": [
    "apart['준공연도']=apart['준공일자'].astype(str).str[:4].astype(int)\n",
    "apart['총면적']=(apart['전용면적']+apart['공용면적'])*apart['전용면적별세대수']"
   ]
  },
  {
   "cell_type": "code",
   "execution_count": 251,
   "metadata": {},
   "outputs": [
    {
     "data": {
      "text/html": [
       "<div>\n",
       "<style scoped>\n",
       "    .dataframe tbody tr th:only-of-type {\n",
       "        vertical-align: middle;\n",
       "    }\n",
       "\n",
       "    .dataframe tbody tr th {\n",
       "        vertical-align: top;\n",
       "    }\n",
       "\n",
       "    .dataframe thead th {\n",
       "        text-align: right;\n",
       "    }\n",
       "</style>\n",
       "<table border=\"1\" class=\"dataframe\">\n",
       "  <thead>\n",
       "    <tr style=\"text-align: right;\">\n",
       "      <th></th>\n",
       "      <th>단지코드</th>\n",
       "      <th>단지명</th>\n",
       "      <th>총세대수</th>\n",
       "      <th>전용면적별세대수</th>\n",
       "      <th>지역</th>\n",
       "      <th>준공일자</th>\n",
       "      <th>건물형태</th>\n",
       "      <th>난방방식</th>\n",
       "      <th>승강기설치여부</th>\n",
       "      <th>단지내주차면수</th>\n",
       "      <th>전용면적</th>\n",
       "      <th>공용면적</th>\n",
       "      <th>임대보증금</th>\n",
       "      <th>임대료</th>\n",
       "      <th>실차량수</th>\n",
       "      <th>준공연도</th>\n",
       "      <th>총면적</th>\n",
       "    </tr>\n",
       "  </thead>\n",
       "  <tbody>\n",
       "    <tr>\n",
       "      <th>0</th>\n",
       "      <td>C0001</td>\n",
       "      <td>엘에이치 서초4단지</td>\n",
       "      <td>78</td>\n",
       "      <td>35</td>\n",
       "      <td>서울</td>\n",
       "      <td>20131204</td>\n",
       "      <td>계단식</td>\n",
       "      <td>개별가스난방</td>\n",
       "      <td>전체동 설치</td>\n",
       "      <td>120</td>\n",
       "      <td>51.89</td>\n",
       "      <td>19.2603</td>\n",
       "      <td>50758000</td>\n",
       "      <td>620370</td>\n",
       "      <td>109</td>\n",
       "      <td>2013</td>\n",
       "      <td>2490.2605</td>\n",
       "    </tr>\n",
       "    <tr>\n",
       "      <th>1</th>\n",
       "      <td>C0001</td>\n",
       "      <td>엘에이치 서초4단지</td>\n",
       "      <td>78</td>\n",
       "      <td>43</td>\n",
       "      <td>서울</td>\n",
       "      <td>20131204</td>\n",
       "      <td>계단식</td>\n",
       "      <td>개별가스난방</td>\n",
       "      <td>전체동 설치</td>\n",
       "      <td>120</td>\n",
       "      <td>59.93</td>\n",
       "      <td>22.2446</td>\n",
       "      <td>63166000</td>\n",
       "      <td>665490</td>\n",
       "      <td>109</td>\n",
       "      <td>2013</td>\n",
       "      <td>3533.5078</td>\n",
       "    </tr>\n",
       "  </tbody>\n",
       "</table>\n",
       "</div>"
      ],
      "text/plain": [
       "    단지코드         단지명  총세대수  전용면적별세대수  지역      준공일자 건물형태    난방방식 승강기설치여부  \\\n",
       "0  C0001  엘에이치 서초4단지    78        35  서울  20131204  계단식  개별가스난방  전체동 설치   \n",
       "1  C0001  엘에이치 서초4단지    78        43  서울  20131204  계단식  개별가스난방  전체동 설치   \n",
       "\n",
       "   단지내주차면수   전용면적     공용면적     임대보증금     임대료  실차량수  준공연도        총면적  \n",
       "0      120  51.89  19.2603  50758000  620370   109  2013  2490.2605  \n",
       "1      120  59.93  22.2446  63166000  665490   109  2013  3533.5078  "
      ]
     },
     "execution_count": 251,
     "metadata": {},
     "output_type": "execute_result"
    }
   ],
   "source": [
    "apart.head(2)"
   ]
  },
  {
   "cell_type": "markdown",
   "metadata": {
    "id": "YYkmS8hZvG-T"
   },
   "source": [
    "### (3) 불필요한 변수 제거\n",
    "\n",
    "- '단지명' 변수는 단일값을 가지므로 제거합니다.\n",
    "- '단지내주차면수' 변숫값을 기반으로 등록 차량수를 예측하는 것은 의미가 없으니, '단지내주차면수' 변수를 제거합니다.\n",
    "- '준공연도' 변수를 추가했으니 '준공일자' 변수를 제거합니다."
   ]
  },
  {
   "cell_type": "code",
   "execution_count": 255,
   "metadata": {
    "id": "9M9lBu6TvG-U"
   },
   "outputs": [],
   "source": [
    "apart.drop(columns=['단지명','단지내주차면수','준공일자'],inplace=True)"
   ]
  },
  {
   "cell_type": "code",
   "execution_count": 256,
   "metadata": {},
   "outputs": [
    {
     "data": {
      "text/html": [
       "<div>\n",
       "<style scoped>\n",
       "    .dataframe tbody tr th:only-of-type {\n",
       "        vertical-align: middle;\n",
       "    }\n",
       "\n",
       "    .dataframe tbody tr th {\n",
       "        vertical-align: top;\n",
       "    }\n",
       "\n",
       "    .dataframe thead th {\n",
       "        text-align: right;\n",
       "    }\n",
       "</style>\n",
       "<table border=\"1\" class=\"dataframe\">\n",
       "  <thead>\n",
       "    <tr style=\"text-align: right;\">\n",
       "      <th></th>\n",
       "      <th>단지코드</th>\n",
       "      <th>총세대수</th>\n",
       "      <th>전용면적별세대수</th>\n",
       "      <th>지역</th>\n",
       "      <th>건물형태</th>\n",
       "      <th>난방방식</th>\n",
       "      <th>승강기설치여부</th>\n",
       "      <th>전용면적</th>\n",
       "      <th>공용면적</th>\n",
       "      <th>임대보증금</th>\n",
       "      <th>임대료</th>\n",
       "      <th>실차량수</th>\n",
       "      <th>준공연도</th>\n",
       "      <th>총면적</th>\n",
       "    </tr>\n",
       "  </thead>\n",
       "  <tbody>\n",
       "    <tr>\n",
       "      <th>0</th>\n",
       "      <td>C0001</td>\n",
       "      <td>78</td>\n",
       "      <td>35</td>\n",
       "      <td>서울</td>\n",
       "      <td>계단식</td>\n",
       "      <td>개별가스난방</td>\n",
       "      <td>전체동 설치</td>\n",
       "      <td>51.89</td>\n",
       "      <td>19.2603</td>\n",
       "      <td>50758000</td>\n",
       "      <td>620370</td>\n",
       "      <td>109</td>\n",
       "      <td>2013</td>\n",
       "      <td>2490.2605</td>\n",
       "    </tr>\n",
       "    <tr>\n",
       "      <th>1</th>\n",
       "      <td>C0001</td>\n",
       "      <td>78</td>\n",
       "      <td>43</td>\n",
       "      <td>서울</td>\n",
       "      <td>계단식</td>\n",
       "      <td>개별가스난방</td>\n",
       "      <td>전체동 설치</td>\n",
       "      <td>59.93</td>\n",
       "      <td>22.2446</td>\n",
       "      <td>63166000</td>\n",
       "      <td>665490</td>\n",
       "      <td>109</td>\n",
       "      <td>2013</td>\n",
       "      <td>3533.5078</td>\n",
       "    </tr>\n",
       "    <tr>\n",
       "      <th>2</th>\n",
       "      <td>C0002</td>\n",
       "      <td>35</td>\n",
       "      <td>26</td>\n",
       "      <td>서울</td>\n",
       "      <td>복도식</td>\n",
       "      <td>개별가스난방</td>\n",
       "      <td>전체동 설치</td>\n",
       "      <td>27.75</td>\n",
       "      <td>16.5375</td>\n",
       "      <td>63062000</td>\n",
       "      <td>458640</td>\n",
       "      <td>35</td>\n",
       "      <td>2013</td>\n",
       "      <td>1151.4750</td>\n",
       "    </tr>\n",
       "    <tr>\n",
       "      <th>3</th>\n",
       "      <td>C0002</td>\n",
       "      <td>35</td>\n",
       "      <td>9</td>\n",
       "      <td>서울</td>\n",
       "      <td>복도식</td>\n",
       "      <td>개별가스난방</td>\n",
       "      <td>전체동 설치</td>\n",
       "      <td>29.08</td>\n",
       "      <td>17.3302</td>\n",
       "      <td>63062000</td>\n",
       "      <td>481560</td>\n",
       "      <td>35</td>\n",
       "      <td>2013</td>\n",
       "      <td>417.6918</td>\n",
       "    </tr>\n",
       "    <tr>\n",
       "      <th>4</th>\n",
       "      <td>C0003</td>\n",
       "      <td>88</td>\n",
       "      <td>7</td>\n",
       "      <td>서울</td>\n",
       "      <td>계단식</td>\n",
       "      <td>개별가스난방</td>\n",
       "      <td>전체동 설치</td>\n",
       "      <td>59.47</td>\n",
       "      <td>21.9462</td>\n",
       "      <td>72190000</td>\n",
       "      <td>586540</td>\n",
       "      <td>88</td>\n",
       "      <td>2013</td>\n",
       "      <td>569.9134</td>\n",
       "    </tr>\n",
       "  </tbody>\n",
       "</table>\n",
       "</div>"
      ],
      "text/plain": [
       "    단지코드  총세대수  전용면적별세대수  지역 건물형태    난방방식 승강기설치여부   전용면적     공용면적     임대보증금  \\\n",
       "0  C0001    78        35  서울  계단식  개별가스난방  전체동 설치  51.89  19.2603  50758000   \n",
       "1  C0001    78        43  서울  계단식  개별가스난방  전체동 설치  59.93  22.2446  63166000   \n",
       "2  C0002    35        26  서울  복도식  개별가스난방  전체동 설치  27.75  16.5375  63062000   \n",
       "3  C0002    35         9  서울  복도식  개별가스난방  전체동 설치  29.08  17.3302  63062000   \n",
       "4  C0003    88         7  서울  계단식  개별가스난방  전체동 설치  59.47  21.9462  72190000   \n",
       "\n",
       "      임대료  실차량수  준공연도        총면적  \n",
       "0  620370   109  2013  2490.2605  \n",
       "1  665490   109  2013  3533.5078  \n",
       "2  458640    35  2013  1151.4750  \n",
       "3  481560    35  2013   417.6918  \n",
       "4  586540    88  2013   569.9134  "
      ]
     },
     "execution_count": 256,
     "metadata": {},
     "output_type": "execute_result"
    }
   ],
   "source": [
    "apart.head()"
   ]
  },
  {
   "cell_type": "markdown",
   "metadata": {
    "id": "lzvfiO7kvG-U"
   },
   "source": [
    "## 3. 데이터 전처리 ②\n",
    "\n",
    "- 단지별 데이터와 상세 데이터로 분리합니다.\n",
    "- 상세 데이터를 3가지 형태로 집계합니다.\n",
    "- 단지별 데이터와 상세 데이터 집계 결과를 조인(Merge) 합니다."
   ]
  },
  {
   "cell_type": "markdown",
   "metadata": {
    "id": "sRbzjQyevG-V"
   },
   "source": [
    "### (1) 데이터 분리\n",
    "\n",
    "- 단지별 데이터를 갖는 data01 데이터프레임을 선언합니다.\n",
    "- 상세 데이터를 갖는 data02 데이터프레임을 선언합니다."
   ]
  },
  {
   "cell_type": "markdown",
   "metadata": {
    "id": "IJ8edb40L-7C"
   },
   "source": [
    "#### 1) 단지별 데이터 분리\n",
    "\n",
    "- 다음 열을 갖는 data01 데이터프레임으로 선언합니다.\n",
    "    - '단지코드', '총세대수', '지역', '준공연도', '건물형태', '난방방식', '승강기설치여부', '실차량수'\n",
    "- data01 데이터프레임의 중복행을 제거합니다.\n",
    "- 인덱스를 초기화 합니다. (단, 기존 인덱스 제거)\n",
    "- 중복행 제거 여부를 필히 확인합니다."
   ]
  },
  {
   "cell_type": "code",
   "execution_count": 263,
   "metadata": {
    "id": "u6VNeJjfvG-V"
   },
   "outputs": [
    {
     "name": "stdout",
     "output_type": "stream",
     "text": [
      "중복 행 제거 후 크기: (345, 8)\n"
     ]
    }
   ],
   "source": [
    "# data01 \n",
    "data01=apart[['단지코드','총세대수','지역','준공연도','건물형태','난방방식','승강기설치여부','실차량수']].copy()\n",
    "# 중복 제거\n",
    "data01.drop_duplicates(inplace=True)\n",
    "# 인덱스 초기화\n",
    "data01.reset_index(drop=True,inplace=True)\n",
    "# 중복행 제거 여부 확인\n",
    "print(f'중복 행 제거 후 크기: {data01.shape}')"
   ]
  },
  {
   "cell_type": "markdown",
   "metadata": {
    "id": "58dBzVONvG-X"
   },
   "source": [
    "#### 2) 상세 데이터 분리\n",
    "    \n",
    "- 다음 열을 갖는 data02 데이터프레임으로 선언합니다.\n",
    "    - '단지코드', '총면적', '전용면적별세대수', '전용면적', '공용면적', '임대보증금', '임대료'"
   ]
  },
  {
   "cell_type": "code",
   "execution_count": 266,
   "metadata": {
    "id": "Ugp8UiSdvG-X"
   },
   "outputs": [],
   "source": [
    "data02=apart[['단지코드', '총면적', '전용면적별세대수', '전용면적', '공용면적', '임대보증금', '임대료']].copy()"
   ]
  },
  {
   "cell_type": "code",
   "execution_count": 267,
   "metadata": {},
   "outputs": [
    {
     "data": {
      "text/html": [
       "<div>\n",
       "<style scoped>\n",
       "    .dataframe tbody tr th:only-of-type {\n",
       "        vertical-align: middle;\n",
       "    }\n",
       "\n",
       "    .dataframe tbody tr th {\n",
       "        vertical-align: top;\n",
       "    }\n",
       "\n",
       "    .dataframe thead th {\n",
       "        text-align: right;\n",
       "    }\n",
       "</style>\n",
       "<table border=\"1\" class=\"dataframe\">\n",
       "  <thead>\n",
       "    <tr style=\"text-align: right;\">\n",
       "      <th></th>\n",
       "      <th>단지코드</th>\n",
       "      <th>총면적</th>\n",
       "      <th>전용면적별세대수</th>\n",
       "      <th>전용면적</th>\n",
       "      <th>공용면적</th>\n",
       "      <th>임대보증금</th>\n",
       "      <th>임대료</th>\n",
       "    </tr>\n",
       "  </thead>\n",
       "  <tbody>\n",
       "    <tr>\n",
       "      <th>0</th>\n",
       "      <td>C0001</td>\n",
       "      <td>2490.2605</td>\n",
       "      <td>35</td>\n",
       "      <td>51.89</td>\n",
       "      <td>19.2603</td>\n",
       "      <td>50758000</td>\n",
       "      <td>620370</td>\n",
       "    </tr>\n",
       "    <tr>\n",
       "      <th>1</th>\n",
       "      <td>C0001</td>\n",
       "      <td>3533.5078</td>\n",
       "      <td>43</td>\n",
       "      <td>59.93</td>\n",
       "      <td>22.2446</td>\n",
       "      <td>63166000</td>\n",
       "      <td>665490</td>\n",
       "    </tr>\n",
       "  </tbody>\n",
       "</table>\n",
       "</div>"
      ],
      "text/plain": [
       "    단지코드        총면적  전용면적별세대수   전용면적     공용면적     임대보증금     임대료\n",
       "0  C0001  2490.2605        35  51.89  19.2603  50758000  620370\n",
       "1  C0001  3533.5078        43  59.93  22.2446  63166000  665490"
      ]
     },
     "execution_count": 267,
     "metadata": {},
     "output_type": "execute_result"
    }
   ],
   "source": [
    "data02.head(2)"
   ]
  },
  {
   "cell_type": "markdown",
   "metadata": {
    "id": "EwiNeoG0vG-X"
   },
   "source": [
    "### (2) 상세 데이터 집계\n",
    "\n",
    "- 앞에서 선언한 data02 데이터프레임을 대상으로 다음 3가지 형태로 집계합니다.\n",
    "    - 단지코드별 총면적 합을 집계합니다.\n",
    "    - 전용면적을 의미있는 구간으로 나누어 피벗 형태로 집계합니다.\n",
    "    - 단지코드별 임대보증금, 임대료 평균을 집계합니다"
   ]
  },
  {
   "cell_type": "markdown",
   "metadata": {
    "id": "PG1oAMsxvG-a"
   },
   "source": [
    "#### 1) 단지코드별 총면적 합 집계\n",
    "\n",
    "- 단지코드별 총면적 합을 집계합니다.\n",
    "- 집계한 결과를 df_area 데이터프레임으로 선언합니다."
   ]
  },
  {
   "cell_type": "code",
   "execution_count": 271,
   "metadata": {
    "id": "e_FHC-_BvG-a"
   },
   "outputs": [
    {
     "name": "stdout",
     "output_type": "stream",
     "text": [
      "단지코드\n",
      "C0001     6023.7683\n",
      "C0002     1569.1668\n",
      "C0003     7180.1396\n",
      "C0004    47058.9273\n",
      "C0006      543.0268\n",
      "            ...    \n",
      "C1341     5143.4140\n",
      "C1354    57616.8100\n",
      "C2307     7605.3580\n",
      "C2343     3284.9760\n",
      "C2349     1551.2400\n",
      "Name: 총면적, Length: 345, dtype: float64\n"
     ]
    }
   ],
   "source": [
    "df_area=data02.groupby('단지코드')['총면적'].sum()\n",
    "print(df_area)"
   ]
  },
  {
   "cell_type": "markdown",
   "metadata": {
    "id": "79Z7k93MvG-X"
   },
   "source": [
    "#### 2) 전용면적 구간별 집계 (피벗 형태)\n",
    "\n",
    "- data02 데이터프레임에 전용면적을 몇몇 구간으로 나눈 범줏값을 갖는 변수를 추가합니다.\n",
    "- 구간을 어떻게 나눌 지 충분히 고민해 봅니다.\n",
    "    - 구간 예: 10-30, 30-40, 40-50, 50-60, 60-70, 70-80, 80-200 \n",
    "- 추가할 변수 이름은 '전용면적구간'으로 합니다.\n",
    "- 참고: pd.cut() 함수를 활용합니다."
   ]
  },
  {
   "cell_type": "code",
   "execution_count": 275,
   "metadata": {},
   "outputs": [
    {
     "data": {
      "text/plain": [
       "count    1157.000000\n",
       "mean       51.565584\n",
       "std        18.243315\n",
       "min        17.590000\n",
       "25%        39.480000\n",
       "50%        46.900000\n",
       "75%        59.810000\n",
       "max       139.350000\n",
       "Name: 전용면적, dtype: float64"
      ]
     },
     "execution_count": 275,
     "metadata": {},
     "output_type": "execute_result"
    }
   ],
   "source": [
    "data02['전용면적'].describe()"
   ]
  },
  {
   "cell_type": "markdown",
   "metadata": {},
   "source": [
    "최소값: 17.59\n",
    "최대값: 139.35\n",
    "\n",
    "사분위수:\n",
    "25%: 39.48 (1사분위수)\n",
    "50%: 46.90 (중앙값)\n",
    "75%: 59.81 (3사분위수)\n",
    "\n",
    "\n",
    "평균: 51.57\n",
    "표준편차: 18.24"
   ]
  },
  {
   "cell_type": "code",
   "execution_count": 278,
   "metadata": {
    "id": "S-tjZWy7vG-Y"
   },
   "outputs": [
    {
     "data": {
      "image/png": "[encoded data removed]",
      "text/plain": [
       "<Figure size 640x480 with 1 Axes>"
      ]
     },
     "metadata": {
      "image/png": {
       "height": 451,
       "width": 569
      }
     },
     "output_type": "display_data"
    }
   ],
   "source": [
    "import matplotlib.pyplot as plt\n",
    "\n",
    "plt.hist(data02['전용면적'], bins=20, edgecolor='black')\n",
    "plt.title('전용면적 분포')\n",
    "plt.xlabel('전용면적')\n",
    "plt.ylabel('빈도수')\n",
    "plt.show()\n"
   ]
  },
  {
   "cell_type": "markdown",
   "metadata": {},
   "source": [
    "1. 분포모양\n",
    "\n",
    "전용면적이 대체로 40~60에 분포되어있다.\n",
    "60 이상에서는 빈도가 급격히 줄어들며, 100 이상의 값은 매우 적다. \n",
    "\n",
    "이는 대부분의 주택이 중간 전용면적을 가지며, 대형 주택은 상대적으로 적다.\n",
    "\n",
    "2. 비대칭성\n",
    "\n",
    "분포가 왼쪽으로 치우쳐져 있으며, 이는 대부분 데이터가 상대적으로 낮은 전용면적을 가진다.\n",
    "\n",
    "3. 이상치\n",
    "100 이상의 이상치가 있으며, 이러한 데이터 포인트는 대형 주택이나 특수한 경우를 뜻함\n"
   ]
  },
  {
   "cell_type": "code",
   "execution_count": 281,
   "metadata": {},
   "outputs": [
    {
     "data": {
      "image/png": "[encoded data removed]",
      "text/plain": [
       "<Figure size 640x480 with 1 Axes>"
      ]
     },
     "metadata": {
      "image/png": {
       "height": 433,
       "width": 551
      }
     },
     "output_type": "display_data"
    }
   ],
   "source": [
    "plt.boxplot(data02['전용면적'])\n",
    "plt.title('전용면적 박스플롯')\n",
    "plt.show()"
   ]
  },
  {
   "cell_type": "markdown",
   "metadata": {},
   "source": [
    "중앙값: 박스 중앙의 주황색 선은 중앙값을 나타내며, 약 46.9입니다. 이는 전체 데이터의 반을 나누는 값입니다.\n",
    "\n",
    "사분위수:\n",
    "\n",
    "1사분위수(Q1, 25%)는 약 39.48로, 데이터의 하위 25%가 이 값 이하입니다.\n",
    "3사분위수(Q3, 75%)는 약 59.81로, 데이터의 상위 25%가 이 값 이상입니다.\n",
    "\n",
    "이상치: 박스플롯 위쪽에 있는 점들은 이상치를 나타내며, 전용면적이 100 이상인 몇몇 데이터가 포함되어 있습니다. 이는 주거 유형에 따라 크기가 매우 큰 전용면적이 있을 수 있음을 시사합니다."
   ]
  },
  {
   "cell_type": "markdown",
   "metadata": {},
   "source": [
    "0-40: 작은 전용면적\n",
    "\n",
    "40-60: 중간 전용면적\n",
    "\n",
    "60-80: 큰 전용면적\n",
    "\n",
    "80-100: 매우 큰 전용면적\n",
    "\n",
    "100 이상: 특별한 경우 (이상치 포함)"
   ]
  },
  {
   "cell_type": "code",
   "execution_count": 285,
   "metadata": {},
   "outputs": [
    {
     "name": "stdout",
     "output_type": "stream",
     "text": [
      "    전용면적 전용면적구간\n",
      "0  51.89  40-60\n",
      "1  59.93  40-60\n",
      "2  27.75   0-40\n",
      "3  29.08   0-40\n",
      "4  59.47  40-60\n"
     ]
    }
   ],
   "source": [
    "# 구간 정의\n",
    "bins = [0, 40, 60, 80, 100, 140]  # 구간 경계 값\n",
    "labels = ['0-40', '40-60', '60-80', '80-100', '100-140']  # 구간 레이블\n",
    "\n",
    "# 전용면적 구간 변수 추가\n",
    "data02['전용면적구간'] = pd.cut(data02['전용면적'], bins=bins, labels=labels, right=False)\n",
    "\n",
    "# 결과 확인\n",
    "print(data02[['전용면적', '전용면적구간']].head())\n"
   ]
  },
  {
   "cell_type": "markdown",
   "metadata": {
    "id": "8ZGTkxaKvG-Y"
   },
   "source": [
    "- 단지코드, 전용면적구간별 전용면적별세대수 합을 집계합니다.\n",
    "- 집계 결과를 temp 데이터프레임으로 선언합니다."
   ]
  },
  {
   "cell_type": "code",
   "execution_count": 289,
   "metadata": {
    "id": "CqTaBueeL2NV"
   },
   "outputs": [],
   "source": [
    "temp=data02.groupby(['단지코드','전용면적구간'])['전용면적별세대수'].sum().reset_index()"
   ]
  },
  {
   "cell_type": "markdown",
   "metadata": {
    "id": "S80Dta28vG-Z"
   },
   "source": [
    "- temp 데이터프레임을 피벗 형태로 변환하여 df_pivot 데이터프레임으로 선언합니다.\n",
    "- 인덱스를 초기화합니다. (단, 인덱스였던 '단지코드'가 제거되면 안됨)\n",
    "- 이후 작업의 편의를 위해 일반적인 데이터프레임 형태를 갖게 합니다.\n",
    "- 참고: df2 = df1.pivot(index=?, columns=?, values=?) 형태로 pivot() 메서드를 사용합니다.\n",
    "- 참고: df2.columns.name=None 형태의 구문을 사용해 열이름에 대한 이름을 제거합니다."
   ]
  },
  {
   "cell_type": "code",
   "execution_count": 292,
   "metadata": {},
   "outputs": [
    {
     "name": "stdout",
     "output_type": "stream",
     "text": [
      "    단지코드   전용면적구간  전용면적별세대수\n",
      "0  C0001     0-40         0\n",
      "1  C0001    40-60        78\n",
      "2  C0001    60-80         0\n",
      "3  C0001   80-100         0\n",
      "4  C0001  100-140         0\n",
      "(1725, 3)\n"
     ]
    }
   ],
   "source": [
    "print(temp.head())  # temp의 첫 5행을 출력\n",
    "print(temp.shape)    # temp의 형태를 출력\n"
   ]
  },
  {
   "cell_type": "code",
   "execution_count": 294,
   "metadata": {
    "id": "1s6ms5EmvG-Z"
   },
   "outputs": [],
   "source": [
    "# temp 데이터프레임을 피벗 형태로 변환\n",
    "df_pivot = temp.pivot(index='단지코드', columns='전용면적구간', values='전용면적별세대수')\n",
    "\n",
    "# 인덱스를 초기화하되, 단지코드는 유지\n",
    "df_pivot.reset_index(inplace=True)\n",
    "\n",
    "# 열 이름에 대한 이름 제거\n",
    "df_pivot.columns.name = None"
   ]
  },
  {
   "cell_type": "code",
   "execution_count": 296,
   "metadata": {},
   "outputs": [
    {
     "data": {
      "text/html": [
       "<div>\n",
       "<style scoped>\n",
       "    .dataframe tbody tr th:only-of-type {\n",
       "        vertical-align: middle;\n",
       "    }\n",
       "\n",
       "    .dataframe tbody tr th {\n",
       "        vertical-align: top;\n",
       "    }\n",
       "\n",
       "    .dataframe thead th {\n",
       "        text-align: right;\n",
       "    }\n",
       "</style>\n",
       "<table border=\"1\" class=\"dataframe\">\n",
       "  <thead>\n",
       "    <tr style=\"text-align: right;\">\n",
       "      <th></th>\n",
       "      <th>단지코드</th>\n",
       "      <th>0-40</th>\n",
       "      <th>40-60</th>\n",
       "      <th>60-80</th>\n",
       "      <th>80-100</th>\n",
       "      <th>100-140</th>\n",
       "    </tr>\n",
       "  </thead>\n",
       "  <tbody>\n",
       "    <tr>\n",
       "      <th>0</th>\n",
       "      <td>C0001</td>\n",
       "      <td>0</td>\n",
       "      <td>78</td>\n",
       "      <td>0</td>\n",
       "      <td>0</td>\n",
       "      <td>0</td>\n",
       "    </tr>\n",
       "    <tr>\n",
       "      <th>1</th>\n",
       "      <td>C0002</td>\n",
       "      <td>35</td>\n",
       "      <td>0</td>\n",
       "      <td>0</td>\n",
       "      <td>0</td>\n",
       "      <td>0</td>\n",
       "    </tr>\n",
       "    <tr>\n",
       "      <th>2</th>\n",
       "      <td>C0003</td>\n",
       "      <td>0</td>\n",
       "      <td>88</td>\n",
       "      <td>0</td>\n",
       "      <td>0</td>\n",
       "      <td>0</td>\n",
       "    </tr>\n",
       "    <tr>\n",
       "      <th>3</th>\n",
       "      <td>C0004</td>\n",
       "      <td>0</td>\n",
       "      <td>150</td>\n",
       "      <td>216</td>\n",
       "      <td>111</td>\n",
       "      <td>0</td>\n",
       "    </tr>\n",
       "    <tr>\n",
       "      <th>4</th>\n",
       "      <td>C0006</td>\n",
       "      <td>15</td>\n",
       "      <td>0</td>\n",
       "      <td>0</td>\n",
       "      <td>0</td>\n",
       "      <td>0</td>\n",
       "    </tr>\n",
       "    <tr>\n",
       "      <th>5</th>\n",
       "      <td>C0007</td>\n",
       "      <td>26</td>\n",
       "      <td>43</td>\n",
       "      <td>0</td>\n",
       "      <td>0</td>\n",
       "      <td>0</td>\n",
       "    </tr>\n",
       "    <tr>\n",
       "      <th>6</th>\n",
       "      <td>C0008</td>\n",
       "      <td>40</td>\n",
       "      <td>46</td>\n",
       "      <td>0</td>\n",
       "      <td>0</td>\n",
       "      <td>0</td>\n",
       "    </tr>\n",
       "    <tr>\n",
       "      <th>7</th>\n",
       "      <td>C0009</td>\n",
       "      <td>0</td>\n",
       "      <td>0</td>\n",
       "      <td>0</td>\n",
       "      <td>39</td>\n",
       "      <td>0</td>\n",
       "    </tr>\n",
       "    <tr>\n",
       "      <th>8</th>\n",
       "      <td>C0010</td>\n",
       "      <td>26</td>\n",
       "      <td>0</td>\n",
       "      <td>0</td>\n",
       "      <td>0</td>\n",
       "      <td>0</td>\n",
       "    </tr>\n",
       "    <tr>\n",
       "      <th>9</th>\n",
       "      <td>C0011</td>\n",
       "      <td>0</td>\n",
       "      <td>0</td>\n",
       "      <td>0</td>\n",
       "      <td>46</td>\n",
       "      <td>0</td>\n",
       "    </tr>\n",
       "  </tbody>\n",
       "</table>\n",
       "</div>"
      ],
      "text/plain": [
       "    단지코드  0-40  40-60  60-80  80-100  100-140\n",
       "0  C0001     0     78      0       0        0\n",
       "1  C0002    35      0      0       0        0\n",
       "2  C0003     0     88      0       0        0\n",
       "3  C0004     0    150    216     111        0\n",
       "4  C0006    15      0      0       0        0\n",
       "5  C0007    26     43      0       0        0\n",
       "6  C0008    40     46      0       0        0\n",
       "7  C0009     0      0      0      39        0\n",
       "8  C0010    26      0      0       0        0\n",
       "9  C0011     0      0      0      46        0"
      ]
     },
     "execution_count": 296,
     "metadata": {},
     "output_type": "execute_result"
    }
   ],
   "source": [
    "df_pivot.head(10)"
   ]
  },
  {
   "cell_type": "markdown",
   "metadata": {},
   "source": [
    "애초에 데이터에 C0005가 없음"
   ]
  },
  {
   "cell_type": "markdown",
   "metadata": {
    "id": "Saa2ErQgvG-Z"
   },
   "source": [
    "#### 3) 임대보증금, 임대료 평균 집계\n",
    "\n",
    "- 단지코드별 임대보증금, 임대료 평균을 집계합니다.\n",
    "- 집계 결과를 df_rent 데이터프레임으로 선언합니다."
   ]
  },
  {
   "cell_type": "code",
   "execution_count": 298,
   "metadata": {
    "id": "LQw0dLiMvG-Z"
   },
   "outputs": [],
   "source": [
    "df_rent = data02.groupby('단지코드')[['임대보증금', '임대료']].mean().reset_index()"
   ]
  },
  {
   "cell_type": "code",
   "execution_count": 300,
   "metadata": {},
   "outputs": [
    {
     "data": {
      "text/html": [
       "<div>\n",
       "<style scoped>\n",
       "    .dataframe tbody tr th:only-of-type {\n",
       "        vertical-align: middle;\n",
       "    }\n",
       "\n",
       "    .dataframe tbody tr th {\n",
       "        vertical-align: top;\n",
       "    }\n",
       "\n",
       "    .dataframe thead th {\n",
       "        text-align: right;\n",
       "    }\n",
       "</style>\n",
       "<table border=\"1\" class=\"dataframe\">\n",
       "  <thead>\n",
       "    <tr style=\"text-align: right;\">\n",
       "      <th></th>\n",
       "      <th>단지코드</th>\n",
       "      <th>임대보증금</th>\n",
       "      <th>임대료</th>\n",
       "    </tr>\n",
       "  </thead>\n",
       "  <tbody>\n",
       "    <tr>\n",
       "      <th>0</th>\n",
       "      <td>C0001</td>\n",
       "      <td>5.696200e+07</td>\n",
       "      <td>642930.000000</td>\n",
       "    </tr>\n",
       "    <tr>\n",
       "      <th>1</th>\n",
       "      <td>C0002</td>\n",
       "      <td>6.306200e+07</td>\n",
       "      <td>470100.000000</td>\n",
       "    </tr>\n",
       "    <tr>\n",
       "      <th>2</th>\n",
       "      <td>C0003</td>\n",
       "      <td>7.219000e+07</td>\n",
       "      <td>586540.000000</td>\n",
       "    </tr>\n",
       "    <tr>\n",
       "      <th>3</th>\n",
       "      <td>C0004</td>\n",
       "      <td>1.015167e+08</td>\n",
       "      <td>950305.000000</td>\n",
       "    </tr>\n",
       "    <tr>\n",
       "      <th>4</th>\n",
       "      <td>C0006</td>\n",
       "      <td>5.522750e+07</td>\n",
       "      <td>340148.333333</td>\n",
       "    </tr>\n",
       "  </tbody>\n",
       "</table>\n",
       "</div>"
      ],
      "text/plain": [
       "    단지코드         임대보증금            임대료\n",
       "0  C0001  5.696200e+07  642930.000000\n",
       "1  C0002  6.306200e+07  470100.000000\n",
       "2  C0003  7.219000e+07  586540.000000\n",
       "3  C0004  1.015167e+08  950305.000000\n",
       "4  C0006  5.522750e+07  340148.333333"
      ]
     },
     "execution_count": 300,
     "metadata": {},
     "output_type": "execute_result"
    }
   ],
   "source": [
    "df_rent.head()"
   ]
  },
  {
   "cell_type": "markdown",
   "metadata": {
    "id": "75qUWdl4vG-c"
   },
   "source": [
    "### (3) 집계 결과 합치기\n",
    "\n",
    "- 위 과정에서 만든 df_area, df_pivot, df_rent 데이터프레임을 data01 데이터프레임과 조인(Merge)합니다.\n",
    "- data01 데이터프레임이 기준 데이터프레임입니다.\n",
    "- '단지코드' 변수가 조인 기준이 되며, how='left'를 지정합니다.\n",
    "- 조인 결과를 base_data 데이터프레임으로 선언합니다."
   ]
  },
  {
   "cell_type": "code",
   "execution_count": 302,
   "metadata": {
    "id": "RbYLep_avG-c"
   },
   "outputs": [],
   "source": [
    "# df_area와 data01 데이터프레임을 조인\n",
    "base_data = data01.merge(df_area, on='단지코드', how='left')\n",
    "\n",
    "# df_pivot과 base_data 데이터프레임을 조인\n",
    "base_data = base_data.merge(df_pivot, on='단지코드', how='left')\n",
    "\n",
    "# df_rent과 base_data 데이터프레임을 조인\n",
    "base_data = base_data.merge(df_rent, on='단지코드', how='left')"
   ]
  },
  {
   "cell_type": "code",
   "execution_count": 304,
   "metadata": {},
   "outputs": [
    {
     "data": {
      "text/html": [
       "<div>\n",
       "<style scoped>\n",
       "    .dataframe tbody tr th:only-of-type {\n",
       "        vertical-align: middle;\n",
       "    }\n",
       "\n",
       "    .dataframe tbody tr th {\n",
       "        vertical-align: top;\n",
       "    }\n",
       "\n",
       "    .dataframe thead th {\n",
       "        text-align: right;\n",
       "    }\n",
       "</style>\n",
       "<table border=\"1\" class=\"dataframe\">\n",
       "  <thead>\n",
       "    <tr style=\"text-align: right;\">\n",
       "      <th></th>\n",
       "      <th>단지코드</th>\n",
       "      <th>총세대수</th>\n",
       "      <th>지역</th>\n",
       "      <th>준공연도</th>\n",
       "      <th>건물형태</th>\n",
       "      <th>난방방식</th>\n",
       "      <th>승강기설치여부</th>\n",
       "      <th>실차량수</th>\n",
       "      <th>총면적</th>\n",
       "      <th>0-40</th>\n",
       "      <th>40-60</th>\n",
       "      <th>60-80</th>\n",
       "      <th>80-100</th>\n",
       "      <th>100-140</th>\n",
       "      <th>임대보증금</th>\n",
       "      <th>임대료</th>\n",
       "    </tr>\n",
       "  </thead>\n",
       "  <tbody>\n",
       "    <tr>\n",
       "      <th>0</th>\n",
       "      <td>C0001</td>\n",
       "      <td>78</td>\n",
       "      <td>서울</td>\n",
       "      <td>2013</td>\n",
       "      <td>계단식</td>\n",
       "      <td>개별가스난방</td>\n",
       "      <td>전체동 설치</td>\n",
       "      <td>109</td>\n",
       "      <td>6023.7683</td>\n",
       "      <td>0</td>\n",
       "      <td>78</td>\n",
       "      <td>0</td>\n",
       "      <td>0</td>\n",
       "      <td>0</td>\n",
       "      <td>5.696200e+07</td>\n",
       "      <td>642930.000000</td>\n",
       "    </tr>\n",
       "    <tr>\n",
       "      <th>1</th>\n",
       "      <td>C0002</td>\n",
       "      <td>35</td>\n",
       "      <td>서울</td>\n",
       "      <td>2013</td>\n",
       "      <td>복도식</td>\n",
       "      <td>개별가스난방</td>\n",
       "      <td>전체동 설치</td>\n",
       "      <td>35</td>\n",
       "      <td>1569.1668</td>\n",
       "      <td>35</td>\n",
       "      <td>0</td>\n",
       "      <td>0</td>\n",
       "      <td>0</td>\n",
       "      <td>0</td>\n",
       "      <td>6.306200e+07</td>\n",
       "      <td>470100.000000</td>\n",
       "    </tr>\n",
       "    <tr>\n",
       "      <th>2</th>\n",
       "      <td>C0003</td>\n",
       "      <td>88</td>\n",
       "      <td>서울</td>\n",
       "      <td>2013</td>\n",
       "      <td>계단식</td>\n",
       "      <td>개별가스난방</td>\n",
       "      <td>전체동 설치</td>\n",
       "      <td>88</td>\n",
       "      <td>7180.1396</td>\n",
       "      <td>0</td>\n",
       "      <td>88</td>\n",
       "      <td>0</td>\n",
       "      <td>0</td>\n",
       "      <td>0</td>\n",
       "      <td>7.219000e+07</td>\n",
       "      <td>586540.000000</td>\n",
       "    </tr>\n",
       "    <tr>\n",
       "      <th>3</th>\n",
       "      <td>C0004</td>\n",
       "      <td>477</td>\n",
       "      <td>서울</td>\n",
       "      <td>2014</td>\n",
       "      <td>복도식</td>\n",
       "      <td>지역난방</td>\n",
       "      <td>전체동 설치</td>\n",
       "      <td>943</td>\n",
       "      <td>47058.9273</td>\n",
       "      <td>0</td>\n",
       "      <td>150</td>\n",
       "      <td>216</td>\n",
       "      <td>111</td>\n",
       "      <td>0</td>\n",
       "      <td>1.015167e+08</td>\n",
       "      <td>950305.000000</td>\n",
       "    </tr>\n",
       "    <tr>\n",
       "      <th>4</th>\n",
       "      <td>C0006</td>\n",
       "      <td>15</td>\n",
       "      <td>서울</td>\n",
       "      <td>2013</td>\n",
       "      <td>복도식</td>\n",
       "      <td>개별가스난방</td>\n",
       "      <td>전체동 설치</td>\n",
       "      <td>21</td>\n",
       "      <td>543.0268</td>\n",
       "      <td>15</td>\n",
       "      <td>0</td>\n",
       "      <td>0</td>\n",
       "      <td>0</td>\n",
       "      <td>0</td>\n",
       "      <td>5.522750e+07</td>\n",
       "      <td>340148.333333</td>\n",
       "    </tr>\n",
       "  </tbody>\n",
       "</table>\n",
       "</div>"
      ],
      "text/plain": [
       "    단지코드  총세대수  지역  준공연도 건물형태    난방방식 승강기설치여부  실차량수         총면적  0-40  40-60  \\\n",
       "0  C0001    78  서울  2013  계단식  개별가스난방  전체동 설치   109   6023.7683     0     78   \n",
       "1  C0002    35  서울  2013  복도식  개별가스난방  전체동 설치    35   1569.1668    35      0   \n",
       "2  C0003    88  서울  2013  계단식  개별가스난방  전체동 설치    88   7180.1396     0     88   \n",
       "3  C0004   477  서울  2014  복도식    지역난방  전체동 설치   943  47058.9273     0    150   \n",
       "4  C0006    15  서울  2013  복도식  개별가스난방  전체동 설치    21    543.0268    15      0   \n",
       "\n",
       "   60-80  80-100  100-140         임대보증금            임대료  \n",
       "0      0       0        0  5.696200e+07  642930.000000  \n",
       "1      0       0        0  6.306200e+07  470100.000000  \n",
       "2      0       0        0  7.219000e+07  586540.000000  \n",
       "3    216     111        0  1.015167e+08  950305.000000  \n",
       "4      0       0        0  5.522750e+07  340148.333333  "
      ]
     },
     "execution_count": 304,
     "metadata": {},
     "output_type": "execute_result"
    }
   ],
   "source": [
    "base_data.head()"
   ]
  },
  {
   "cell_type": "markdown",
   "metadata": {
    "id": "DFVvSdhGQ4N_"
   },
   "source": [
    "## 4. 데이터 셋 저장\n",
    "\n",
    "- joblib.dump() 함수를 사용하여 최종 데이터 셋을 파일로 저장합니다.\n",
    "- 파일 이름은 base_data1.pkl로 합니다."
   ]
  },
  {
   "cell_type": "code",
   "execution_count": 306,
   "metadata": {
    "id": "rsPMYAnPBo4k"
   },
   "outputs": [
    {
     "data": {
      "text/plain": [
       "['base_data1.pkl']"
      ]
     },
     "execution_count": 306,
     "metadata": {},
     "output_type": "execute_result"
    }
   ],
   "source": [
    "# 파일로 저장\n",
    "joblib.dump(base_data,'base_data1.pkl')"
   ]
  },
  {
   "cell_type": "markdown",
   "metadata": {},
   "source": [
    "pkl 파일로 저장 많이 함. csv도 쓰는데 pkl을 더 선호"
   ]
  }
 ],
 "metadata": {
  "colab": {
   "provenance": [],
   "toc_visible": true
  },
  "kernelspec": {
   "display_name": "Python 3 (ipykernel)",
   "language": "python",
   "name": "python3"
  },
  "language_info": {
   "codemirror_mode": {
    "name": "ipython",
    "version": 3
   },
   "file_extension": ".py",
   "mimetype": "text/x-python",
   "name": "python",
   "nbconvert_exporter": "python",
   "pygments_lexer": "ipython3",
   "version": "3.12.4"
  }
 },
 "nbformat": 4,
 "nbformat_minor": 4
}
