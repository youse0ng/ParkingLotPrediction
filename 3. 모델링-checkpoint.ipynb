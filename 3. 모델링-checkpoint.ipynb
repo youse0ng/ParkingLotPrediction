{
 "cells": [
  {
   "cell_type": "markdown",
   "metadata": {
    "id": "3LKUcK33JaUj"
   },
   "source": [
    "# AIVLE스쿨 2차 미니프로젝트: 신규 아파트 주차 수요 예측"
   ]
  },
  {
   "cell_type": "markdown",
   "metadata": {
    "id": "kYP7mb9YJaUk"
   },
   "source": [
    "<img src = \"https://github.com/Jangrae/img/blob/master/parking.png?raw=true\" width=800, align=\"left\"/>"
   ]
  },
  {
   "cell_type": "markdown",
   "metadata": {
    "id": "mJlY5pHkC2AM"
   },
   "source": [
    "# 단계 3: 모델링"
   ]
  },
  {
   "cell_type": "markdown",
   "metadata": {
    "id": "-FPypzell2uc"
   },
   "source": [
    "## [미션]\n",
    "\n",
    "- 모델링을 수행합니다.\n",
    "    - 전처리를 추가로 진행합니다.\n",
    "    - 4개 이상의 알고리즘을 사용해 모델링을 수행합니다.\n",
    "    - 각 모델에 대해 성능 튜닝을 수행합니다.\n",
    "    - 성능을 비교해 최선의 모델을 선정합니다.\n",
    "- 데이터 파이프라인 함수를 만듭니다.\n",
    "- 새로운 데이터를 읽어와 예측을 수행합니다."
   ]
  },
  {
   "cell_type": "markdown",
   "metadata": {
    "id": "NCptKiLOAn7l"
   },
   "source": [
    "## 1. 환경설정"
   ]
  },
  {
   "cell_type": "markdown",
   "metadata": {
    "id": "gklxNfgNpkls"
   },
   "source": [
    "### (1) 로컬 수행(Anaconda)\n",
    "\n",
    "- project 폴더에 필요한 파일들을 넣고, 본 파일을 열었다면, 별도 경로 지정이 필요하지 않습니다."
   ]
  },
  {
   "cell_type": "code",
   "execution_count": null,
   "metadata": {
    "id": "PNI6X2yxpkls",
    "tags": []
   },
   "outputs": [],
   "source": [
    "# 기본 경로\n",
    "path = ''"
   ]
  },
  {
   "cell_type": "markdown",
   "metadata": {
    "id": "7rWT4biQpkls"
   },
   "source": [
    "### (2) 구글 콜랩 수행\n",
    "\n",
    "- 구글 콜랩을 사용중이면 구글 드라이브를 연결합니다."
   ]
  },
  {
   "cell_type": "code",
   "execution_count": null,
   "metadata": {
    "id": "CLasRk8Spklt",
    "tags": []
   },
   "outputs": [],
   "source": [
    "# 구글 드라이브 연결, 패스 지정\n",
    "import sys\n",
    "if 'google.colab' in sys.modules:\n",
    "    from google.colab import drive\n",
    "    drive.mount('/content/drive')\n",
    "    path = '/content/drive/MyDrive/project/'"
   ]
  },
  {
   "cell_type": "markdown",
   "metadata": {
    "id": "_pZ0wODmJaUl"
   },
   "source": [
    "### (3) 한글 폰트 표시용 라이브러리 설치"
   ]
  },
  {
   "cell_type": "code",
   "execution_count": null,
   "metadata": {
    "id": "OB5myH_xJaUl"
   },
   "outputs": [],
   "source": [
    "# 한글 표시를 위한 라이브러리 설치\n",
    "!pip install koreanize_matplotlib -q"
   ]
  },
  {
   "cell_type": "markdown",
   "metadata": {
    "id": "nePA7QICJaUm"
   },
   "source": [
    "### (4) 라이브러리 불러오기"
   ]
  },
  {
   "cell_type": "code",
   "execution_count": null,
   "metadata": {
    "id": "6CajyIHEJaUm",
    "tags": []
   },
   "outputs": [],
   "source": [
    "# 기본 라이브러리 불러오기\n",
    "import numpy as np\n",
    "import pandas as pd\n",
    "import matplotlib.pyplot as plt\n",
    "import koreanize_matplotlib\n",
    "import seaborn as sns\n",
    "\n",
    "# 모델링용 라이브러리 불러오기\n",
    "\n",
    "\n",
    "\n",
    "# 기타 라이브러리 불러기기\n",
    "import joblib\n",
    "import warnings\n",
    "\n",
    "warnings.filterwarnings(action='ignore')\n",
    "%config InlineBackend.figure_format='retina'"
   ]
  },
  {
   "cell_type": "markdown",
   "metadata": {
    "id": "dPfPWkG1txqV"
   },
   "source": [
    "### (5) 데이터 불러오기\n",
    "\n",
    "- joblib.dump() 함수를 사용해 base_data2.pkl 파일을 읽어옵니다.\n",
    "- 읽어온 데이터를 data 데이터프레임으로 선언하고 기본 정보를 확인합니다."
   ]
  },
  {
   "cell_type": "code",
   "execution_count": null,
   "metadata": {
    "id": "X2kI5qHzwEjg"
   },
   "outputs": [],
   "source": [
    "# 파일 읽어오기\n",
    "data = joblib.load(path+'base_data2.pkl')\n",
    "\n",
    "# 확인\n",
    "data.head()"
   ]
  },
  {
   "cell_type": "code",
   "execution_count": null,
   "metadata": {
    "id": "nx3ZFaN9Xmv_"
   },
   "outputs": [],
   "source": [
    "\n"
   ]
  },
  {
   "cell_type": "code",
   "execution_count": null,
   "metadata": {
    "id": "Nrv3NIlZ08dt"
   },
   "outputs": [],
   "source": [
    "\n"
   ]
  },
  {
   "cell_type": "code",
   "execution_count": null,
   "metadata": {},
   "outputs": [],
   "source": [
    "\n"
   ]
  },
  {
   "cell_type": "code",
   "execution_count": null,
   "metadata": {},
   "outputs": [],
   "source": [
    "\n"
   ]
  },
  {
   "cell_type": "markdown",
   "metadata": {
    "id": "xkEmuB30wRaS"
   },
   "source": [
    "### (6) 함수 생성\n",
    "\n",
    "- 실젯값과 모델이 예측한 값을 시각화해 비교할 함수를 만듭니다."
   ]
  },
  {
   "cell_type": "code",
   "execution_count": null,
   "metadata": {
    "id": "QMo-4gMpJaUm"
   },
   "outputs": [],
   "source": [
    "# 실젯값, 예측값 비교 함수 만들기\n",
    "# def model_plot(y_test, y_pred):\n",
    "#     plt.figure(figsize=(10, 3))\n",
    "#     plt.plot(y_test.values, label='Actual', linewidth=0.7, marker='o', markersize=2)\n",
    "#     plt.plot(y_pred, label='Predicted', linewidth=0.7, marker='o', markersize=2)\n",
    "#     plt.legend()\n",
    "#     plt.show()"
   ]
  },
  {
   "cell_type": "markdown",
   "metadata": {
    "id": "_rnxI9AX34So"
   },
   "source": [
    "## 2. 모델링\n",
    "\n",
    "- 모델링을 위한 결측치 처리, 데이터 분할, 스케일링, 가변수화 등을 수행합니다.\n",
    "- 4개 이상의 알고리즘을 사용하여 모델을 만듭니다.\n",
    "- 모델 이름은 서로 다르게 합니다. (예: model1, model2...)\n",
    "- Linear Regression 이외의 알고리즘을 사용한 모델은 GridSearchCV() 함수로 성능 최적화를 수행합니다.\n",
    "- 적절한 평가지표로 모델의 성능을 평가합니다.\n",
    "- 실젯값과 예측값을 시각화해 비교합니다.\n",
    "- 성능 비교를 통해 최선의 모델을 선정합니다."
   ]
  },
  {
   "cell_type": "markdown",
   "metadata": {
    "id": "I2dCzUzIdmGA"
   },
   "source": [
    "### (1) 데이터 전처리\n",
    "\n",
    "- 필요한 전처리를 수행합니다."
   ]
  },
  {
   "cell_type": "markdown",
   "metadata": {
    "id": "LwhUygCD-a5-"
   },
   "source": [
    "#### 1) 가변수화\n",
    "\n",
    "- '건물형태', '난방방식' 변수에 대해 가변수화를 수행합니다."
   ]
  },
  {
   "cell_type": "code",
   "execution_count": null,
   "metadata": {
    "id": "Y8UVpKTK2XLJ"
   },
   "outputs": [],
   "source": [
    "\n"
   ]
  },
  {
   "cell_type": "markdown",
   "metadata": {
    "id": "2LoNLbrAJaUn"
   },
   "source": [
    "#### 2) x, y 분리\n",
    "\n",
    "- Target를 지정하고, x와 y로 분리합니다."
   ]
  },
  {
   "cell_type": "code",
   "execution_count": null,
   "metadata": {
    "id": "_qS6q_m0JaUn"
   },
   "outputs": [],
   "source": [
    "\n"
   ]
  },
  {
   "cell_type": "markdown",
   "metadata": {
    "id": "dE_cOzTuBB_j"
   },
   "source": [
    "#### 3) 학습용, 평가용 분리\n",
    "\n",
    "- 학습용, 평가용 데이터를 적절한 비율로 분리합니다."
   ]
  },
  {
   "cell_type": "code",
   "execution_count": null,
   "metadata": {
    "id": "erDo9ThJBB5n"
   },
   "outputs": [],
   "source": [
    "\n"
   ]
  },
  {
   "cell_type": "markdown",
   "metadata": {
    "id": "eaN7IkOy_mBI"
   },
   "source": [
    "#### 4) 스케일링\n",
    "\n",
    "- 필요한 경우 스케일링을 진행합니다.\n",
    "- 예를 들어 KNN 알고리즘을 사용할 경우입니다."
   ]
  },
  {
   "cell_type": "code",
   "execution_count": null,
   "metadata": {
    "id": "Ap5GTgOpgX_g"
   },
   "outputs": [],
   "source": [
    "\n"
   ]
  },
  {
   "cell_type": "markdown",
   "metadata": {
    "id": "etAA2LwF4SWn"
   },
   "source": [
    "### (2) 모델 1: 알고리즘"
   ]
  },
  {
   "cell_type": "code",
   "execution_count": null,
   "metadata": {
    "id": "fhxPV3EvInno"
   },
   "outputs": [],
   "source": [
    "\n"
   ]
  },
  {
   "cell_type": "markdown",
   "metadata": {
    "id": "FydcSYl88hv7"
   },
   "source": [
    "### (3) 모델 2: 알고리즘\n"
   ]
  },
  {
   "cell_type": "code",
   "execution_count": null,
   "metadata": {
    "id": "tRykzP9C8hv8"
   },
   "outputs": [],
   "source": [
    "\n"
   ]
  },
  {
   "cell_type": "markdown",
   "metadata": {
    "id": "XSgCYQ7fhc0O"
   },
   "source": [
    "### (4) 모델 3: 알고리즘"
   ]
  },
  {
   "cell_type": "code",
   "execution_count": null,
   "metadata": {
    "id": "sWJSVdb36ugE"
   },
   "outputs": [],
   "source": [
    "\n"
   ]
  },
  {
   "cell_type": "markdown",
   "metadata": {
    "id": "1tBDqbDGJaUp"
   },
   "source": [
    "### (5) 모델 4: 알고리즘"
   ]
  },
  {
   "cell_type": "code",
   "execution_count": null,
   "metadata": {
    "id": "vhyK2r3aJaUp"
   },
   "outputs": [],
   "source": [
    "\n"
   ]
  },
  {
   "cell_type": "markdown",
   "metadata": {
    "id": "1tBDqbDGJaUp"
   },
   "source": [
    "### (6) 모델 5: 알고리즘"
   ]
  },
  {
   "cell_type": "code",
   "execution_count": null,
   "metadata": {
    "id": "vhyK2r3aJaUp"
   },
   "outputs": [],
   "source": [
    "\n"
   ]
  },
  {
   "cell_type": "markdown",
   "metadata": {
    "id": "4-QzT2U3ixWd"
   },
   "source": [
    "### (7) 성능 비교\n",
    "\n",
    "- 각 모델의 성능을 비교합니다."
   ]
  },
  {
   "cell_type": "code",
   "execution_count": null,
   "metadata": {
    "id": "r47gFIzcJaUp",
    "scrolled": true
   },
   "outputs": [],
   "source": [
    "\n"
   ]
  },
  {
   "cell_type": "markdown",
   "metadata": {
    "id": "L9DOFUlDkV7X"
   },
   "source": [
    "## 3. 파이프라인 구축\n",
    "\n",
    "- 새로운 데이터를 불러오고, 이 데이터를 처리할 파이프라인 함수를 만듭니다."
   ]
  },
  {
   "cell_type": "markdown",
   "metadata": {
    "id": "5WOfAg25Mfe7"
   },
   "source": [
    "### (1) New Data 불러오기\n",
    "\n",
    "- test.xlsx 파일을 읽어와 new_data 데이터프레임으로 선언합니다.\n",
    "- 해당 데이터는 '실차량수' 변수가 없는 것 외에는, 최초 데이터와 동일한 구조입니다.\n",
    "- 이 데이터를 대상으로 전처리와 예측을 수행합니다."
   ]
  },
  {
   "cell_type": "code",
   "execution_count": null,
   "metadata": {
    "id": "OIzQ0HCQdJ6c"
   },
   "outputs": [],
   "source": [
    "# 파일 읽어오기\n",
    "new_data = pd.read_excel(path+'test.xlsx')\n",
    "\n",
    "# 확인\n",
    "new_data.head()"
   ]
  },
  {
   "cell_type": "markdown",
   "metadata": {
    "id": "NKLMkjcPrAjr"
   },
   "source": [
    "### (2) 데이터 파이프라인 구축\n",
    "\n",
    "- 데이터 파이프라인 함수를 만듭니다.\n",
    "- 학습 데이터에 대해 진행했던 모든 전처리 과정을 평가 데이터에도 일괄 진행해야 합니다.\n",
    "    - 입력: new_data\n",
    "    - 출력: 전처리가 완료된 예측 직전 데이터프레임\n",
    "- 새로운 데이터에는 '실차량수' 변수가 없음을 유의합니다.\n",
    "- 참고: 다음 내용들이 처리되어야 합니다.\n",
    "    - 결측치 처리\n",
    "    - 변수 추가\n",
    "    - 불필요한 변수 제거\n",
    "    - 단지 데이터, 상세 데이터 분리\n",
    "    - 단지코드별 총면적 합 집계\n",
    "    - 전용면적 구간별 집계 (피벗 형태)\n",
    "    - 임대보증금, 임대료 평균 집계\n",
    "    - 집계 결과 병합\n",
    "    - 난방방식: 개별, 지역, 중앙 세 가지로 묶기\n",
    "    - 승강기설치여부: 0, 1 값으로 변경\n",
    "    - 단지모드, 지역 변수 제거\n",
    "    - 가변수화"
   ]
  },
  {
   "cell_type": "code",
   "execution_count": null,
   "metadata": {
    "id": "INUoRl-qi0BN"
   },
   "outputs": [],
   "source": [
    "# 파이프라인 만들기\n",
    "def data_pipeline(data):\n",
    "    apt01 = data.copy()\n",
    "\n",
    "    "
   ]
  },
  {
   "cell_type": "markdown",
   "metadata": {
    "id": "kJpmOxg2rFuZ"
   },
   "source": [
    "### (3) 예측하기\n",
    "\n",
    "- new_data를 파이프라인을 사용해 전처리한 후 가장 성능이 좋았던 모델로 예측한 결과를 확인합니다."
   ]
  },
  {
   "cell_type": "code",
   "execution_count": null,
   "metadata": {
    "id": "XUjNsITTq9wB"
   },
   "outputs": [],
   "source": [
    "# 데이터 전처리\n",
    "data = data_pipeline(new_data)\n",
    "\n",
    "# 확인\n",
    "data.head()"
   ]
  },
  {
   "cell_type": "code",
   "execution_count": null,
   "metadata": {
    "id": "OJkoQGgVJaUq"
   },
   "outputs": [],
   "source": [
    "# 예측하기\n",
    "predicted = model4.predict(data)\n",
    "\n",
    "# 확인\n",
    "print(predicted)"
   ]
  },
  {
   "cell_type": "markdown",
   "metadata": {
    "id": "N5eeJKV-JaUq"
   },
   "source": [
    "- 아파트 기본 정보에 예측한 차량수를 붙여 마무리합니다."
   ]
  },
  {
   "cell_type": "code",
   "execution_count": null,
   "metadata": {
    "id": "4k8bVSDBJaUq"
   },
   "outputs": [],
   "source": [
    "# 데이터 셋 두개로 나누기\n",
    "vars = ['단지코드', '단지명', '총세대수', '지역', ]\n",
    "result = new_data[vars].copy()\n",
    "result = result.drop_duplicates()\n",
    "result.reset_index(drop=True, inplace=True)\n",
    "\n",
    "# 예측 결과 추가\n",
    "result['예상차량수'] = predicted.round(1).astype(int)\n",
    "\n",
    "# 확인\n",
    "result"
   ]
  }
 ],
 "metadata": {
  "accelerator": "GPU",
  "colab": {
   "provenance": []
  },
  "gpuClass": "standard",
  "kernelspec": {
   "display_name": "Python 3 (ipykernel)",
   "language": "python",
   "name": "python3"
  },
  "language_info": {
   "codemirror_mode": {
    "name": "ipython",
    "version": 3
   },
   "file_extension": ".py",
   "mimetype": "text/x-python",
   "name": "python",
   "nbconvert_exporter": "python",
   "pygments_lexer": "ipython3",
   "version": "3.11.9"
  }
 },
 "nbformat": 4,
 "nbformat_minor": 4
}
